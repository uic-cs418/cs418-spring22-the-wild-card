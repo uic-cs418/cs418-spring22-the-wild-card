{
 "cells": [
  {
   "cell_type": "markdown",
   "id": "75a5e43f",
   "metadata": {},
   "source": [
    "# The Impact of Coronavirus\n",
    "- Team Wild Card: Shambhavi Danayak, William Kopec, Chinmay Wadnerkar, Ian Lulu"
   ]
  },
  {
   "cell_type": "markdown",
   "id": "6baa8c23",
   "metadata": {},
   "source": [
    "### Important Links for the project\n",
    "- Github Repository:https://github.com/uic-cs418/cs418-spring22-the-wild-card\n",
    "- Data sources: <br>\n",
    "1) https://covid19.who.int/WHO-COVID-19-global-data.csv <br>\n",
    "2) https://covid19.who.int/who-data/vaccination-data.csv"
   ]
  },
  {
   "cell_type": "markdown",
   "id": "1363d9ab",
   "metadata": {},
   "source": [
    "### Project Overview\n",
    "The Impact of Vaccines on Covid-19 Death Rates<br>\n",
    "Covid-19 Pandemic affected the entire globe for more than two years hence the need to understand the pandemic becomes important.The idea of this project is to analyze Covid-19 cases report database and vaccine database created by WORLD HEALTH ORGANIZATION (WHO) with the help of some Machine Learning Techniques and visualizaztions to get useful results. <br>\n",
    "Analysis of the dataset could help research the impact of Covid-19 virus to answer a lot of questions such as:\n",
    "- What was the impact of vaccination in the containment of the virus?\n",
    "- Should anti-vaccination population consider changing their stance to get vaccinated?\n",
    "- What is the death rate caused due to Covid-19 virus across various countries? Which country had the - highest impact and which had the lowest?\n",
    "- How to better assist NGOs, healthcare companies and disease control institutions in combating COVID-19 and preventing future outbreaks?\n",
    "\n",
    "### Problem Statement\n",
    "How has Vaccination impacted the Coronavirus cases?"
   ]
  },
  {
   "cell_type": "markdown",
   "id": "2b559843",
   "metadata": {},
   "source": [
    "#### Importing required libraries "
   ]
  },
  {
   "cell_type": "code",
   "execution_count": 14,
   "id": "aaee3ffe",
   "metadata": {},
   "outputs": [],
   "source": [
    "import pandas as pd\n",
    "import numpy as np\n",
    "import seaborn as sns\n",
    "%matplotlib inline\n",
    "import matplotlib.pyplot as plt"
   ]
  },
  {
   "cell_type": "markdown",
   "id": "cd39b8c2",
   "metadata": {},
   "source": [
    "#### Reading and merging the Datasets, source: WHO \n",
    "-  We changed the WHO_region and Country in main to match the WHO_REGION and COUNTRY in vaccine.<br>\n",
    "- We will analyze/visualize data for 237 countries featured in the main dataset."
   ]
  },
  {
   "cell_type": "code",
   "execution_count": 15,
   "id": "a5f0cadf",
   "metadata": {},
   "outputs": [
    {
     "data": {
      "text/html": [
       "<div>\n",
       "<style scoped>\n",
       "    .dataframe tbody tr th:only-of-type {\n",
       "        vertical-align: middle;\n",
       "    }\n",
       "\n",
       "    .dataframe tbody tr th {\n",
       "        vertical-align: top;\n",
       "    }\n",
       "\n",
       "    .dataframe thead th {\n",
       "        text-align: right;\n",
       "    }\n",
       "</style>\n",
       "<table border=\"1\" class=\"dataframe\">\n",
       "  <thead>\n",
       "    <tr style=\"text-align: right;\">\n",
       "      <th></th>\n",
       "      <th>Date_reported</th>\n",
       "      <th>Country_code</th>\n",
       "      <th>Country</th>\n",
       "      <th>WHO_region</th>\n",
       "      <th>New_cases</th>\n",
       "      <th>Cumulative_cases</th>\n",
       "      <th>New_deaths</th>\n",
       "      <th>Cumulative_deaths</th>\n",
       "    </tr>\n",
       "  </thead>\n",
       "  <tbody>\n",
       "    <tr>\n",
       "      <th>0</th>\n",
       "      <td>1/3/2020</td>\n",
       "      <td>AF</td>\n",
       "      <td>Afghanistan</td>\n",
       "      <td>EMRO</td>\n",
       "      <td>0</td>\n",
       "      <td>0</td>\n",
       "      <td>0</td>\n",
       "      <td>0</td>\n",
       "    </tr>\n",
       "    <tr>\n",
       "      <th>1</th>\n",
       "      <td>1/4/2020</td>\n",
       "      <td>AF</td>\n",
       "      <td>Afghanistan</td>\n",
       "      <td>EMRO</td>\n",
       "      <td>0</td>\n",
       "      <td>0</td>\n",
       "      <td>0</td>\n",
       "      <td>0</td>\n",
       "    </tr>\n",
       "    <tr>\n",
       "      <th>2</th>\n",
       "      <td>1/5/2020</td>\n",
       "      <td>AF</td>\n",
       "      <td>Afghanistan</td>\n",
       "      <td>EMRO</td>\n",
       "      <td>0</td>\n",
       "      <td>0</td>\n",
       "      <td>0</td>\n",
       "      <td>0</td>\n",
       "    </tr>\n",
       "    <tr>\n",
       "      <th>3</th>\n",
       "      <td>1/6/2020</td>\n",
       "      <td>AF</td>\n",
       "      <td>Afghanistan</td>\n",
       "      <td>EMRO</td>\n",
       "      <td>0</td>\n",
       "      <td>0</td>\n",
       "      <td>0</td>\n",
       "      <td>0</td>\n",
       "    </tr>\n",
       "    <tr>\n",
       "      <th>4</th>\n",
       "      <td>1/7/2020</td>\n",
       "      <td>AF</td>\n",
       "      <td>Afghanistan</td>\n",
       "      <td>EMRO</td>\n",
       "      <td>0</td>\n",
       "      <td>0</td>\n",
       "      <td>0</td>\n",
       "      <td>0</td>\n",
       "    </tr>\n",
       "  </tbody>\n",
       "</table>\n",
       "</div>"
      ],
      "text/plain": [
       "  Date_reported Country_code      Country WHO_region  New_cases  \\\n",
       "0      1/3/2020           AF  Afghanistan       EMRO          0   \n",
       "1      1/4/2020           AF  Afghanistan       EMRO          0   \n",
       "2      1/5/2020           AF  Afghanistan       EMRO          0   \n",
       "3      1/6/2020           AF  Afghanistan       EMRO          0   \n",
       "4      1/7/2020           AF  Afghanistan       EMRO          0   \n",
       "\n",
       "   Cumulative_cases  New_deaths  Cumulative_deaths  \n",
       "0                 0           0                  0  \n",
       "1                 0           0                  0  \n",
       "2                 0           0                  0  \n",
       "3                 0           0                  0  \n",
       "4                 0           0                  0  "
      ]
     },
     "execution_count": 15,
     "metadata": {},
     "output_type": "execute_result"
    }
   ],
   "source": [
    "main = pd.read_csv(\"WHO-COVID-19-global-data.csv\")\n",
    "main.head()"
   ]
  },
  {
   "cell_type": "code",
   "execution_count": 16,
   "id": "02375ea3",
   "metadata": {},
   "outputs": [
    {
     "data": {
      "text/html": [
       "<div>\n",
       "<style scoped>\n",
       "    .dataframe tbody tr th:only-of-type {\n",
       "        vertical-align: middle;\n",
       "    }\n",
       "\n",
       "    .dataframe tbody tr th {\n",
       "        vertical-align: top;\n",
       "    }\n",
       "\n",
       "    .dataframe thead th {\n",
       "        text-align: right;\n",
       "    }\n",
       "</style>\n",
       "<table border=\"1\" class=\"dataframe\">\n",
       "  <thead>\n",
       "    <tr style=\"text-align: right;\">\n",
       "      <th></th>\n",
       "      <th>COUNTRY</th>\n",
       "      <th>ISO3</th>\n",
       "      <th>WHO_REGION</th>\n",
       "      <th>DATA_SOURCE</th>\n",
       "      <th>DATE_UPDATED</th>\n",
       "      <th>TOTAL_VACCINATIONS</th>\n",
       "      <th>PERSONS_VACCINATED_1PLUS_DOSE</th>\n",
       "      <th>TOTAL_VACCINATIONS_PER100</th>\n",
       "      <th>PERSONS_VACCINATED_1PLUS_DOSE_PER100</th>\n",
       "      <th>PERSONS_FULLY_VACCINATED</th>\n",
       "      <th>PERSONS_FULLY_VACCINATED_PER100</th>\n",
       "      <th>VACCINES_USED</th>\n",
       "      <th>FIRST_VACCINE_DATE</th>\n",
       "      <th>NUMBER_VACCINES_TYPES_USED</th>\n",
       "    </tr>\n",
       "  </thead>\n",
       "  <tbody>\n",
       "    <tr>\n",
       "      <th>0</th>\n",
       "      <td>Afghanistan</td>\n",
       "      <td>AFG</td>\n",
       "      <td>EMRO</td>\n",
       "      <td>REPORTING</td>\n",
       "      <td>2/27/2022</td>\n",
       "      <td>5535254</td>\n",
       "      <td>4907058.0</td>\n",
       "      <td>14.219</td>\n",
       "      <td>12.605</td>\n",
       "      <td>4231984.0</td>\n",
       "      <td>10.871</td>\n",
       "      <td>Beijing CNBG - BBIBP-CorV,Janssen - Ad26.COV 2...</td>\n",
       "      <td>2/22/2021</td>\n",
       "      <td>4.0</td>\n",
       "    </tr>\n",
       "    <tr>\n",
       "      <th>1</th>\n",
       "      <td>Albania</td>\n",
       "      <td>ALB</td>\n",
       "      <td>EURO</td>\n",
       "      <td>REPORTING</td>\n",
       "      <td>2/20/2022</td>\n",
       "      <td>2707658</td>\n",
       "      <td>1284034.0</td>\n",
       "      <td>94.100</td>\n",
       "      <td>45.118</td>\n",
       "      <td>1192155.0</td>\n",
       "      <td>41.889</td>\n",
       "      <td>AstraZeneca - Vaxzevria,Gamaleya - Gam-Covid-V...</td>\n",
       "      <td>1/13/2021</td>\n",
       "      <td>5.0</td>\n",
       "    </tr>\n",
       "  </tbody>\n",
       "</table>\n",
       "</div>"
      ],
      "text/plain": [
       "       COUNTRY ISO3 WHO_REGION DATA_SOURCE DATE_UPDATED  TOTAL_VACCINATIONS  \\\n",
       "0  Afghanistan  AFG       EMRO   REPORTING    2/27/2022             5535254   \n",
       "1      Albania  ALB       EURO   REPORTING    2/20/2022             2707658   \n",
       "\n",
       "   PERSONS_VACCINATED_1PLUS_DOSE  TOTAL_VACCINATIONS_PER100  \\\n",
       "0                      4907058.0                     14.219   \n",
       "1                      1284034.0                     94.100   \n",
       "\n",
       "   PERSONS_VACCINATED_1PLUS_DOSE_PER100  PERSONS_FULLY_VACCINATED  \\\n",
       "0                                12.605                 4231984.0   \n",
       "1                                45.118                 1192155.0   \n",
       "\n",
       "   PERSONS_FULLY_VACCINATED_PER100  \\\n",
       "0                           10.871   \n",
       "1                           41.889   \n",
       "\n",
       "                                       VACCINES_USED FIRST_VACCINE_DATE  \\\n",
       "0  Beijing CNBG - BBIBP-CorV,Janssen - Ad26.COV 2...          2/22/2021   \n",
       "1  AstraZeneca - Vaxzevria,Gamaleya - Gam-Covid-V...          1/13/2021   \n",
       "\n",
       "   NUMBER_VACCINES_TYPES_USED  \n",
       "0                         4.0  \n",
       "1                         5.0  "
      ]
     },
     "execution_count": 16,
     "metadata": {},
     "output_type": "execute_result"
    }
   ],
   "source": [
    "vaccine = pd.read_csv(\"vaccination-data.csv\")\n",
    "vaccine.head(2)"
   ]
  },
  {
   "cell_type": "code",
   "execution_count": 17,
   "id": "1f390e93",
   "metadata": {},
   "outputs": [
    {
     "data": {
      "text/html": [
       "<div>\n",
       "<style scoped>\n",
       "    .dataframe tbody tr th:only-of-type {\n",
       "        vertical-align: middle;\n",
       "    }\n",
       "\n",
       "    .dataframe tbody tr th {\n",
       "        vertical-align: top;\n",
       "    }\n",
       "\n",
       "    .dataframe thead th {\n",
       "        text-align: right;\n",
       "    }\n",
       "</style>\n",
       "<table border=\"1\" class=\"dataframe\">\n",
       "  <thead>\n",
       "    <tr style=\"text-align: right;\">\n",
       "      <th></th>\n",
       "      <th>Date_reported</th>\n",
       "      <th>Country_code</th>\n",
       "      <th>COUNTRY</th>\n",
       "      <th>WHO_REGION</th>\n",
       "      <th>New_cases</th>\n",
       "      <th>Cumulative_cases</th>\n",
       "      <th>New_deaths</th>\n",
       "      <th>Cumulative_deaths</th>\n",
       "      <th>ISO3</th>\n",
       "      <th>DATA_SOURCE</th>\n",
       "      <th>DATE_UPDATED</th>\n",
       "      <th>TOTAL_VACCINATIONS</th>\n",
       "      <th>PERSONS_VACCINATED_1PLUS_DOSE</th>\n",
       "      <th>TOTAL_VACCINATIONS_PER100</th>\n",
       "      <th>PERSONS_VACCINATED_1PLUS_DOSE_PER100</th>\n",
       "      <th>PERSONS_FULLY_VACCINATED</th>\n",
       "      <th>PERSONS_FULLY_VACCINATED_PER100</th>\n",
       "      <th>VACCINES_USED</th>\n",
       "      <th>FIRST_VACCINE_DATE</th>\n",
       "      <th>NUMBER_VACCINES_TYPES_USED</th>\n",
       "    </tr>\n",
       "  </thead>\n",
       "  <tbody>\n",
       "    <tr>\n",
       "      <th>0</th>\n",
       "      <td>1/3/2020</td>\n",
       "      <td>AF</td>\n",
       "      <td>Afghanistan</td>\n",
       "      <td>EMRO</td>\n",
       "      <td>0.0</td>\n",
       "      <td>0.0</td>\n",
       "      <td>0.0</td>\n",
       "      <td>0.0</td>\n",
       "      <td>AFG</td>\n",
       "      <td>REPORTING</td>\n",
       "      <td>2/27/2022</td>\n",
       "      <td>5535254.0</td>\n",
       "      <td>4907058.0</td>\n",
       "      <td>14.219</td>\n",
       "      <td>12.605</td>\n",
       "      <td>4231984.0</td>\n",
       "      <td>10.871</td>\n",
       "      <td>Beijing CNBG - BBIBP-CorV,Janssen - Ad26.COV 2...</td>\n",
       "      <td>2/22/2021</td>\n",
       "      <td>4.0</td>\n",
       "    </tr>\n",
       "    <tr>\n",
       "      <th>1</th>\n",
       "      <td>1/4/2020</td>\n",
       "      <td>AF</td>\n",
       "      <td>Afghanistan</td>\n",
       "      <td>EMRO</td>\n",
       "      <td>0.0</td>\n",
       "      <td>0.0</td>\n",
       "      <td>0.0</td>\n",
       "      <td>0.0</td>\n",
       "      <td>AFG</td>\n",
       "      <td>REPORTING</td>\n",
       "      <td>2/27/2022</td>\n",
       "      <td>5535254.0</td>\n",
       "      <td>4907058.0</td>\n",
       "      <td>14.219</td>\n",
       "      <td>12.605</td>\n",
       "      <td>4231984.0</td>\n",
       "      <td>10.871</td>\n",
       "      <td>Beijing CNBG - BBIBP-CorV,Janssen - Ad26.COV 2...</td>\n",
       "      <td>2/22/2021</td>\n",
       "      <td>4.0</td>\n",
       "    </tr>\n",
       "  </tbody>\n",
       "</table>\n",
       "</div>"
      ],
      "text/plain": [
       "  Date_reported Country_code      COUNTRY WHO_REGION  New_cases  \\\n",
       "0      1/3/2020           AF  Afghanistan       EMRO        0.0   \n",
       "1      1/4/2020           AF  Afghanistan       EMRO        0.0   \n",
       "\n",
       "   Cumulative_cases  New_deaths  Cumulative_deaths ISO3 DATA_SOURCE  \\\n",
       "0               0.0         0.0                0.0  AFG   REPORTING   \n",
       "1               0.0         0.0                0.0  AFG   REPORTING   \n",
       "\n",
       "  DATE_UPDATED  TOTAL_VACCINATIONS  PERSONS_VACCINATED_1PLUS_DOSE  \\\n",
       "0    2/27/2022           5535254.0                      4907058.0   \n",
       "1    2/27/2022           5535254.0                      4907058.0   \n",
       "\n",
       "   TOTAL_VACCINATIONS_PER100  PERSONS_VACCINATED_1PLUS_DOSE_PER100  \\\n",
       "0                     14.219                                12.605   \n",
       "1                     14.219                                12.605   \n",
       "\n",
       "   PERSONS_FULLY_VACCINATED  PERSONS_FULLY_VACCINATED_PER100  \\\n",
       "0                 4231984.0                           10.871   \n",
       "1                 4231984.0                           10.871   \n",
       "\n",
       "                                       VACCINES_USED FIRST_VACCINE_DATE  \\\n",
       "0  Beijing CNBG - BBIBP-CorV,Janssen - Ad26.COV 2...          2/22/2021   \n",
       "1  Beijing CNBG - BBIBP-CorV,Janssen - Ad26.COV 2...          2/22/2021   \n",
       "\n",
       "   NUMBER_VACCINES_TYPES_USED  \n",
       "0                         4.0  \n",
       "1                         4.0  "
      ]
     },
     "execution_count": 17,
     "metadata": {},
     "output_type": "execute_result"
    }
   ],
   "source": [
    "main = main.rename(columns={\"WHO_region\": \"WHO_REGION\", \"Country\": \"COUNTRY\"})\n",
    "main = main.merge(vaccine, how='outer', on=['WHO_REGION', 'COUNTRY'])\n",
    "main = main.dropna(subset=['Date_reported'])\n",
    "main.head(2)"
   ]
  },
  {
   "cell_type": "code",
   "execution_count": 19,
   "id": "1aedd3d9",
   "metadata": {},
   "outputs": [
    {
     "data": {
      "text/plain": [
       "Afghanistan        781\n",
       "Paraguay           781\n",
       "Nigeria            781\n",
       "Niue               781\n",
       "North Macedonia    781\n",
       "Name: COUNTRY, dtype: int64"
      ]
     },
     "execution_count": 19,
     "metadata": {},
     "output_type": "execute_result"
    }
   ],
   "source": [
    "main.loc[:, \"COUNTRY\"].value_counts()[0:5] "
   ]
  },
  {
   "cell_type": "markdown",
   "id": "574eee9a",
   "metadata": {},
   "source": [
    "#### EXPLORATORY DATA ANALYSIS\n",
    "- Understanding the data\n",
    "- Data cleaning as required\n",
    "- Understanding relationships between variables, finding data discripencies etc.\n",
    "- Finally maximizing or minimizing of the dataset to create useful results (This is processes is continued as required in the project)"
   ]
  },
  {
   "cell_type": "code",
   "execution_count": 22,
   "id": "95850865",
   "metadata": {},
   "outputs": [
    {
     "data": {
      "text/html": [
       "<div>\n",
       "<style scoped>\n",
       "    .dataframe tbody tr th:only-of-type {\n",
       "        vertical-align: middle;\n",
       "    }\n",
       "\n",
       "    .dataframe tbody tr th {\n",
       "        vertical-align: top;\n",
       "    }\n",
       "\n",
       "    .dataframe thead th {\n",
       "        text-align: right;\n",
       "    }\n",
       "</style>\n",
       "<table border=\"1\" class=\"dataframe\">\n",
       "  <thead>\n",
       "    <tr style=\"text-align: right;\">\n",
       "      <th></th>\n",
       "      <th>Date_reported</th>\n",
       "      <th>COUNTRY</th>\n",
       "      <th>WHO_REGION</th>\n",
       "      <th>New_cases</th>\n",
       "      <th>Cumulative_cases</th>\n",
       "      <th>New_deaths</th>\n",
       "      <th>Cumulative_deaths</th>\n",
       "      <th>DATE_UPDATED</th>\n",
       "      <th>TOTAL_VACCINATIONS</th>\n",
       "      <th>PERSONS_VACCINATED_1PLUS_DOSE</th>\n",
       "      <th>TOTAL_VACCINATIONS_PER100</th>\n",
       "      <th>PERSONS_VACCINATED_1PLUS_DOSE_PER100</th>\n",
       "      <th>PERSONS_FULLY_VACCINATED</th>\n",
       "      <th>PERSONS_FULLY_VACCINATED_PER100</th>\n",
       "      <th>VACCINES_USED</th>\n",
       "      <th>FIRST_VACCINE_DATE</th>\n",
       "      <th>NUMBER_VACCINES_TYPES_USED</th>\n",
       "    </tr>\n",
       "  </thead>\n",
       "  <tbody>\n",
       "    <tr>\n",
       "      <th>0</th>\n",
       "      <td>1/3/2020</td>\n",
       "      <td>Afghanistan</td>\n",
       "      <td>EMRO</td>\n",
       "      <td>0.0</td>\n",
       "      <td>0.0</td>\n",
       "      <td>0.0</td>\n",
       "      <td>0.0</td>\n",
       "      <td>2/27/2022</td>\n",
       "      <td>5535254.0</td>\n",
       "      <td>4907058.0</td>\n",
       "      <td>14.219</td>\n",
       "      <td>12.605</td>\n",
       "      <td>4231984.0</td>\n",
       "      <td>10.871</td>\n",
       "      <td>Beijing CNBG - BBIBP-CorV,Janssen - Ad26.COV 2...</td>\n",
       "      <td>2/22/2021</td>\n",
       "      <td>4.0</td>\n",
       "    </tr>\n",
       "    <tr>\n",
       "      <th>1</th>\n",
       "      <td>1/4/2020</td>\n",
       "      <td>Afghanistan</td>\n",
       "      <td>EMRO</td>\n",
       "      <td>0.0</td>\n",
       "      <td>0.0</td>\n",
       "      <td>0.0</td>\n",
       "      <td>0.0</td>\n",
       "      <td>2/27/2022</td>\n",
       "      <td>5535254.0</td>\n",
       "      <td>4907058.0</td>\n",
       "      <td>14.219</td>\n",
       "      <td>12.605</td>\n",
       "      <td>4231984.0</td>\n",
       "      <td>10.871</td>\n",
       "      <td>Beijing CNBG - BBIBP-CorV,Janssen - Ad26.COV 2...</td>\n",
       "      <td>2/22/2021</td>\n",
       "      <td>4.0</td>\n",
       "    </tr>\n",
       "  </tbody>\n",
       "</table>\n",
       "</div>"
      ],
      "text/plain": [
       "  Date_reported      COUNTRY WHO_REGION  New_cases  Cumulative_cases  \\\n",
       "0      1/3/2020  Afghanistan       EMRO        0.0               0.0   \n",
       "1      1/4/2020  Afghanistan       EMRO        0.0               0.0   \n",
       "\n",
       "   New_deaths  Cumulative_deaths DATE_UPDATED  TOTAL_VACCINATIONS  \\\n",
       "0         0.0                0.0    2/27/2022           5535254.0   \n",
       "1         0.0                0.0    2/27/2022           5535254.0   \n",
       "\n",
       "   PERSONS_VACCINATED_1PLUS_DOSE  TOTAL_VACCINATIONS_PER100  \\\n",
       "0                      4907058.0                     14.219   \n",
       "1                      4907058.0                     14.219   \n",
       "\n",
       "   PERSONS_VACCINATED_1PLUS_DOSE_PER100  PERSONS_FULLY_VACCINATED  \\\n",
       "0                                12.605                 4231984.0   \n",
       "1                                12.605                 4231984.0   \n",
       "\n",
       "   PERSONS_FULLY_VACCINATED_PER100  \\\n",
       "0                           10.871   \n",
       "1                           10.871   \n",
       "\n",
       "                                       VACCINES_USED FIRST_VACCINE_DATE  \\\n",
       "0  Beijing CNBG - BBIBP-CorV,Janssen - Ad26.COV 2...          2/22/2021   \n",
       "1  Beijing CNBG - BBIBP-CorV,Janssen - Ad26.COV 2...          2/22/2021   \n",
       "\n",
       "   NUMBER_VACCINES_TYPES_USED  \n",
       "0                         4.0  \n",
       "1                         4.0  "
      ]
     },
     "execution_count": 22,
     "metadata": {},
     "output_type": "execute_result"
    }
   ],
   "source": [
    "## Dropping inessential columns\n",
    "if 'Country_code' in main.columns and 'ISO3' in main.columns and 'DATA_SOURCE' in main.columns:\n",
    "    main = main.drop(columns=['Country_code', 'ISO3', 'DATA_SOURCE'])\n",
    "pd.set_option('display.max_rows', None) ##to see at first 100 rows and understand any trends in the dataset\n",
    "main.head(2)"
   ]
  },
  {
   "cell_type": "code",
   "execution_count": 23,
   "id": "f218fe95",
   "metadata": {},
   "outputs": [
    {
     "data": {
      "text/plain": [
       "<AxesSubplot:>"
      ]
     },
     "execution_count": 23,
     "metadata": {},
     "output_type": "execute_result"
    },
    {
     "data": {
      "image/png": "[encoded data removed]",
      "text/plain": [
       "<Figure size 432x288 with 1 Axes>"
      ]
     },
     "metadata": {
      "needs_background": "light"
     },
     "output_type": "display_data"
    }
   ],
   "source": [
    "## Now we check for mising values \n",
    "main.isnull().sum()\n",
    "sns.heatmap(main.isnull(),cbar=False,cmap='viridis')"
   ]
  },
  {
   "cell_type": "markdown",
   "id": "5bb4029a",
   "metadata": {},
   "source": [
    "##### INFERENCE: As we can see from the above heatmap the dataset does contain some missing/null values"
   ]
  },
  {
   "cell_type": "code",
   "execution_count": 24,
   "id": "1933dcf2",
   "metadata": {},
   "outputs": [],
   "source": [
    "##This is an example code which drops Nan values \n",
    "## When you scrollthrough the output list you see all are false meaning no nan values found)\n",
    "##Such meaningful data cleaning techniques were done as required\n",
    "main[\"DATE_UPDATED\"].unique()\n",
    "main= main.dropna(subset=[\"DATE_UPDATED\"])\n",
    "#main[\"DATE_UPDATED\"].isnull()"
   ]
  },
  {
   "cell_type": "markdown",
   "id": "2beb9d95",
   "metadata": {},
   "source": [
    "### EXPLORATORY DATA ANALYSIS RESULTS\n",
    "- **Understanding the data:** <br>\n",
    "1) At first glance we can see our dataet has columns featuring reported cases,Date repoprted, cumulative deaths, vaccination dates etc. Then a simple heatmap was made to get a visual idea of how many missing/nan values are present in the data. <br>\n",
    "2) Using pandas library features such as .dropna(), .isnull() etc. were used to drop/replace missing/nan values <br>\n",
    "3) There are a total of 174944 entries in the dataset and a total of 17 columns. Data is of two types, float(64) or object(6).<br>\n",
    "4) The dataset uses 24.0+ MB memory<br>\n",
    "- **Data Granuality:** Covid cases are reported on a daily basis starting 1/3/2020 to 2/21/2022. \n",
    "- **Data Temporality:**  Since data is reported on a daily basis across the globe, the data is Spatiotemporal.\n",
    "- **Relationships/descripencies in the dataset:** <br>\n",
    "1) Covid cases are reported on a daily basis while vaccinations dates are random. This dicrepency made it difficult to correlate between case, death dates and vaccination dates.<br>\n",
    "2) .describe() points to the fact that there are few cases where new cases have negative value, which is not possible. Hence created a discrepency in our dataset"
   ]
  },
  {
   "cell_type": "markdown",
   "id": "2ab9ae4e",
   "metadata": {},
   "source": [
    "### Visualizations: <br>\n",
    "In order for us to understand whether or not the vaccines are completely effective in preventing the spread of Covid-19, it is important to understand the scale/severity of the pandemic and how quickly Covid is spreading. To demonstrate, we chose our home country (USA) to show how quickly the cumulative cases are growing."
   ]
  },
  {
   "cell_type": "markdown",
   "id": "e13f661e",
   "metadata": {},
   "source": [
    "<div>\n",
    "<img src=\"Plots/Screen Shot 2022-05-05 at 3.35.15 AM.png\" width=\"300\"/>\n",
    "</div>"
   ]
  },
  {
   "cell_type": "markdown",
   "id": "94823835",
   "metadata": {},
   "source": [
    "Next, we analyzed the countries which did have vaccinations and countries which didn't have vaccinations and compared 2 countries new cases (of similar population) after the first vaccination date of the vaccinated country. This would give us a better idea of understanding if the covid vaccines had an immediate response in new cases or not. We found that Russia (Unvaccinated) and Japan (Vaccinated as of ...) had similar populations so we decided to compare:"
   ]
  },
  {
   "cell_type": "markdown",
   "id": "38d807dd",
   "metadata": {},
   "source": [
    "<div>\n",
    "<img src=\"Plots/Screen%20Shot%202022-05-05%20at%203.36.22%20AM\" width=\"300\"/>\n",
    "</div>"
   ]
  },
  {
   "cell_type": "markdown",
   "id": "7ec69519",
   "metadata": {},
   "source": [
    "<div>\n",
    "<img src=\"Plots/Screen Shot 2022-05-05 at 3.36.22 AM.png\" width=\"300\"/>\n",
    "</div>"
   ]
  },
  {
   "cell_type": "markdown",
   "id": "ae01a6f6",
   "metadata": {},
   "source": [
    "Next, we wanted to compare the cumulative cases and deaths of all WHO Regions specified in the data."
   ]
  },
  {
   "cell_type": "markdown",
   "id": "0e508dd0",
   "metadata": {},
   "source": [
    "<div>\n",
    "<img src=\"Plots/Screen Shot 2022-05-05 at 3.36.54 AM.png\" width=\"300\"/>\n",
    "</div>"
   ]
  },
  {
   "cell_type": "markdown",
   "id": "adfe174f-6013-459a-a832-def03e6da610",
   "metadata": {},
   "source": [
    "Lastly, we created a bar graph to see how each region is doing in terms of number of vaccinations per WHO Region. This graph will be useful to compare with the last graph to see if the most vaccinated countries have lower cumulative cases and deaths."
   ]
  },
  {
   "cell_type": "markdown",
   "id": "1fde340b",
   "metadata": {},
   "source": [
    "<div>\n",
    "<img src=\"Plots/Screen Shot 2022-05-05 at 4.01.18 AM.png\" width=\"300\"/>\n",
    "</div>"
   ]
  },
  {
   "cell_type": "markdown",
   "id": "0545e61e",
   "metadata": {},
   "source": [
    "The two graphs show above the deaths, cases and vaccination status based on the various WHO Regions.\n",
    "\n",
    "SEARO still has relatively high reported cases+deaths despite the vaccinations. EMRO & EURO have lower cases & deaths even with less vaccinations and AFRO’s ratio of deaths to cases is twice as much as any region\n",
    "\n",
    "It can be infered that the reported vaccinations may equate to relatively lower cases and death rates (keeping population size of region in mind). \n",
    "\n",
    "The Eastern countries are more willing to get the vaccine, while Western countries are more reluctant/skeptical which has been found true according the real world situation.\n",
    "\n",
    "There could be regions that don’t report some data so cases and deaths could be higher in reality."
   ]
  },
  {
   "cell_type": "markdown",
   "id": "3e8ebde5",
   "metadata": {},
   "source": [
    "## Machine Learning Techniques"
   ]
  },
  {
   "cell_type": "markdown",
   "id": "b32017ee",
   "metadata": {},
   "source": [
    "We tried both supervised and unsupervised learning techniques. For supervised learning we went with both regression and classifcation because we had the availabilty of different kinds of data and target variables."
   ]
  },
  {
   "cell_type": "markdown",
   "id": "72da14ed",
   "metadata": {},
   "source": [
    "### Regression"
   ]
  },
  {
   "cell_type": "markdown",
   "id": "f49048f8",
   "metadata": {},
   "source": [
    "We wanted to predict the number of new deaths based on all the other features. We used a simple linear regressor and 2 different error metrics. They are shown as below:"
   ]
  },
  {
   "cell_type": "markdown",
   "id": "5c22f6e5",
   "metadata": {},
   "source": [
    "<div>\n",
    "<img src=\"Plots/Screen Shot 2022-05-05 at 3.25.48 AM.png\" width=\"600\"/>\n",
    "</div>"
   ]
  },
  {
   "cell_type": "markdown",
   "id": "9bdb45f0",
   "metadata": {},
   "source": [
    "Since the 2 error metrics show different values, it is difficult to decide which one of them is the better one. We could with __polynomial regressors to further reduce the error values.__"
   ]
  },
  {
   "cell_type": "markdown",
   "id": "0f952ec1",
   "metadata": {},
   "source": [
    "### Classifications:\n",
    "\n",
    "For the purposes of classification we applied the K nearest Neighbors and Decision Tree Classifiers. The target variable is number of new countries that will be classified based on the features other than this. "
   ]
  },
  {
   "cell_type": "markdown",
   "id": "3f11e8fd",
   "metadata": {},
   "source": [
    "We needed to convert the dates to ordinal values and scale all the features which we did using the standard scalar method. The following metric values when we use K nearest Neighbor algorithm are:"
   ]
  },
  {
   "cell_type": "markdown",
   "id": "98b415b0",
   "metadata": {},
   "source": [
    "<div>\n",
    "<img src=\"Plots/Screen Shot 2022-05-05 at 3.04.18 AM.png\" width=\"600\"/>\n",
    "</div>"
   ]
  },
  {
   "cell_type": "markdown",
   "id": "8a2fe72e",
   "metadata": {},
   "source": [
    "The accuracy score on the test and predicted value shows that our model can accurately classify the cases based on the countries in which they occur. The high value of accuracy score can also be due to some overfitting but this can be easily removed using Cross-validation or aquiring more data."
   ]
  },
  {
   "cell_type": "markdown",
   "id": "df47a7ed",
   "metadata": {},
   "source": [
    "For building a more complex model than K nearest neighbors we use the Decision tree classifier. We get a accuracy score of 99%. This is to be expected because decision trees takes in account the smaller spaces between the data."
   ]
  },
  {
   "cell_type": "markdown",
   "id": "7097cae1",
   "metadata": {},
   "source": [
    "<div>\n",
    "<img src=\"Plots/Screen Shot 2022-05-05 at 3.10.28 AM.png\" width=\"600\"/>\n",
    "</div>"
   ]
  },
  {
   "cell_type": "markdown",
   "id": "7e748d3f",
   "metadata": {},
   "source": [
    "### Unsupervised Learning\n",
    "\n",
    "We used Kmeans and Gaussian Mixture Models for the purposes of clustering. We used a scree-plot graph as part of PCA to determine the best components to be used in GMM."
   ]
  },
  {
   "cell_type": "markdown",
   "id": "669082ba",
   "metadata": {},
   "source": [
    "We decide to go ahead with 7 components as part of our scree-plot. GMMs don't produce a useful result and hence are not included in these."
   ]
  },
  {
   "cell_type": "markdown",
   "id": "e571b4a9",
   "metadata": {},
   "source": [
    "The number of clusters are used to group the regions according to the values of new deaths and new cases. The dense cluster show that new deaths are more prevelant in regions where new cases are higher. There are some regions where higher deaths are seen for a lower number of new cases. This can be due to the fact that these are countries with inefficient medical infrastructure or some other factors"
   ]
  },
  {
   "cell_type": "markdown",
   "id": "caea9417",
   "metadata": {},
   "source": [
    "<div>\n",
    "<img src=\"Plots/Screen Shot 2022-05-05 at 3.18.48 AM.png\" width=\"300\"/>\n",
    "</div>\n",
    "\n",
    "\n"
   ]
  },
  {
   "cell_type": "markdown",
   "id": "cc140783",
   "metadata": {},
   "source": [
    "# Conclusions:\n",
    "\n",
    "\n",
    "We can conclude from the visualizations, eda and ml techniques that there is a correaltion between new cases, deaths and the rate of vaccinations. Hence it is should suffice when we state that the rates of vaccination do help in reducing the cases and deaths.\n",
    "\n",
    "We would further want to improve on the project by:\n",
    "\n",
    "Removing any outliers and discrepancies from the data to the best possible limit.\n",
    "Producing statistical results for providing more information at a glance.\n",
    "Work on reducing the overfitting of our models.\n",
    "Utilizing better pre-processing techniques like introducing Polynomial Features, using Encoding techniques to work with categorical and numerical features."
   ]
  },
  {
   "cell_type": "markdown",
   "id": "c671dd00",
   "metadata": {},
   "source": [
    "__Some visualizations for the ML techniques could not be included due to the constaraint of 8 pages. Plese refer to the code notebook for the visualizations and other results that could not be included in this report. Thank You!__"
   ]
  }
 ],
 "metadata": {
  "kernelspec": {
   "display_name": "Python 3 (ipykernel)",
   "language": "python",
   "name": "python3"
  },
  "language_info": {
   "codemirror_mode": {
    "name": "ipython",
    "version": 3
   },
   "file_extension": ".py",
   "mimetype": "text/x-python",
   "name": "python",
   "nbconvert_exporter": "python",
   "pygments_lexer": "ipython3",
   "version": "3.9.7"
  }
 },
 "nbformat": 4,
 "nbformat_minor": 5
}
