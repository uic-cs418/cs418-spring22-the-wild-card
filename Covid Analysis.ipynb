{
 "cells": [
  {
   "cell_type": "markdown",
   "id": "fd720bda",
   "metadata": {},
   "source": [
    "# Project: The Impact of Vaccines on Covid-19 Death Rates"
   ]
  },
  {
   "cell_type": "markdown",
   "id": "60abd248",
   "metadata": {},
   "source": [
    "## Project Introduction:"
   ]
  },
  {
   "cell_type": "raw",
   "id": "c5834991",
   "metadata": {},
   "source": []
  },
  {
   "cell_type": "markdown",
   "id": "d79593a1",
   "metadata": {},
   "source": [
    "## Changes Made:"
   ]
  },
  {
   "cell_type": "code",
   "execution_count": null,
   "id": "139cc545",
   "metadata": {},
   "outputs": [],
   "source": []
  },
  {
   "cell_type": "markdown",
   "id": "6c8ab743",
   "metadata": {},
   "source": [
    "## Data Cleaning:"
   ]
  },
  {
   "cell_type": "code",
   "execution_count": null,
   "id": "d0196066",
   "metadata": {},
   "outputs": [],
   "source": []
  },
  {
   "cell_type": "markdown",
   "id": "281fef66",
   "metadata": {},
   "source": [
    "## Exploratory Data Analysis:"
   ]
  },
  {
   "cell_type": "code",
   "execution_count": null,
   "id": "a25ed873",
   "metadata": {},
   "outputs": [],
   "source": []
  },
  {
   "cell_type": "markdown",
   "id": "e907ff36",
   "metadata": {},
   "source": [
    "## Visualization:"
   ]
  },
  {
   "cell_type": "code",
   "execution_count": null,
   "id": "01665131",
   "metadata": {},
   "outputs": [],
   "source": []
  },
  {
   "cell_type": "markdown",
   "id": "6f2eada5",
   "metadata": {},
   "source": [
    "## Machine Learning Analysis:"
   ]
  },
  {
   "cell_type": "code",
   "execution_count": null,
   "id": "2df5b9b3",
   "metadata": {},
   "outputs": [],
   "source": []
  },
  {
   "cell_type": "markdown",
   "id": "a41ac6e3",
   "metadata": {},
   "source": [
    "## Reflection:"
   ]
  },
  {
   "cell_type": "code",
   "execution_count": null,
   "id": "a4eb8452",
   "metadata": {},
   "outputs": [],
   "source": []
  },
  {
   "cell_type": "code",
   "execution_count": null,
   "id": "9d69afd6",
   "metadata": {},
   "outputs": [],
   "source": []
  },
  {
   "cell_type": "markdown",
   "id": "407a42d9",
   "metadata": {},
   "source": [
    "Import the Necessary Libraries for Data Analysis and Visualization"
   ]
  },
  {
   "cell_type": "code",
   "execution_count": 1,
   "id": "04cc182b",
   "metadata": {},
   "outputs": [],
   "source": [
    "import pandas as pd\n",
    "import numpy as np\n",
    "import seaborn as sns\n",
    "%matplotlib inline\n",
    "import matplotlib.pyplot as plt"
   ]
  },
  {
   "cell_type": "markdown",
   "id": "34de7ff4",
   "metadata": {},
   "source": [
    "Step 1: Load the Datasets to use in the project."
   ]
  },
  {
   "cell_type": "code",
   "execution_count": 99,
   "id": "882fea0f",
   "metadata": {},
   "outputs": [
    {
     "data": {
      "text/html": [
       "<div>\n",
       "<style scoped>\n",
       "    .dataframe tbody tr th:only-of-type {\n",
       "        vertical-align: middle;\n",
       "    }\n",
       "\n",
       "    .dataframe tbody tr th {\n",
       "        vertical-align: top;\n",
       "    }\n",
       "\n",
       "    .dataframe thead th {\n",
       "        text-align: right;\n",
       "    }\n",
       "</style>\n",
       "<table border=\"1\" class=\"dataframe\">\n",
       "  <thead>\n",
       "    <tr style=\"text-align: right;\">\n",
       "      <th></th>\n",
       "      <th>COUNTRY</th>\n",
       "      <th>ISO3</th>\n",
       "      <th>WHO_REGION</th>\n",
       "      <th>DATA_SOURCE</th>\n",
       "      <th>DATE_UPDATED</th>\n",
       "      <th>TOTAL_VACCINATIONS</th>\n",
       "      <th>PERSONS_VACCINATED_1PLUS_DOSE</th>\n",
       "      <th>TOTAL_VACCINATIONS_PER100</th>\n",
       "      <th>PERSONS_VACCINATED_1PLUS_DOSE_PER100</th>\n",
       "      <th>PERSONS_FULLY_VACCINATED</th>\n",
       "      <th>PERSONS_FULLY_VACCINATED_PER100</th>\n",
       "      <th>VACCINES_USED</th>\n",
       "      <th>FIRST_VACCINE_DATE</th>\n",
       "      <th>NUMBER_VACCINES_TYPES_USED</th>\n",
       "    </tr>\n",
       "  </thead>\n",
       "  <tbody>\n",
       "    <tr>\n",
       "      <th>0</th>\n",
       "      <td>Afghanistan</td>\n",
       "      <td>AFG</td>\n",
       "      <td>EMRO</td>\n",
       "      <td>REPORTING</td>\n",
       "      <td>2022-02-27</td>\n",
       "      <td>5535254</td>\n",
       "      <td>4907058.0</td>\n",
       "      <td>14.219</td>\n",
       "      <td>12.605</td>\n",
       "      <td>4231984.0</td>\n",
       "      <td>10.871</td>\n",
       "      <td>Beijing CNBG - BBIBP-CorV,Janssen - Ad26.COV 2...</td>\n",
       "      <td>2021-02-22</td>\n",
       "      <td>4.0</td>\n",
       "    </tr>\n",
       "    <tr>\n",
       "      <th>1</th>\n",
       "      <td>Albania</td>\n",
       "      <td>ALB</td>\n",
       "      <td>EURO</td>\n",
       "      <td>REPORTING</td>\n",
       "      <td>2022-02-20</td>\n",
       "      <td>2707658</td>\n",
       "      <td>1284034.0</td>\n",
       "      <td>94.100</td>\n",
       "      <td>45.118</td>\n",
       "      <td>1192155.0</td>\n",
       "      <td>41.889</td>\n",
       "      <td>AstraZeneca - Vaxzevria,Gamaleya - Gam-Covid-V...</td>\n",
       "      <td>2021-01-13</td>\n",
       "      <td>5.0</td>\n",
       "    </tr>\n",
       "    <tr>\n",
       "      <th>2</th>\n",
       "      <td>Algeria</td>\n",
       "      <td>DZA</td>\n",
       "      <td>AFRO</td>\n",
       "      <td>REPORTING</td>\n",
       "      <td>2022-02-20</td>\n",
       "      <td>13631683</td>\n",
       "      <td>7456361.0</td>\n",
       "      <td>31.086</td>\n",
       "      <td>17.004</td>\n",
       "      <td>6076272.0</td>\n",
       "      <td>13.857</td>\n",
       "      <td>Beijing CNBG - BBIBP-CorV,Gamaleya - Gam-Covid...</td>\n",
       "      <td>2021-01-30</td>\n",
       "      <td>4.0</td>\n",
       "    </tr>\n",
       "  </tbody>\n",
       "</table>\n",
       "</div>"
      ],
      "text/plain": [
       "       COUNTRY ISO3 WHO_REGION DATA_SOURCE DATE_UPDATED  TOTAL_VACCINATIONS  \\\n",
       "0  Afghanistan  AFG       EMRO   REPORTING   2022-02-27             5535254   \n",
       "1      Albania  ALB       EURO   REPORTING   2022-02-20             2707658   \n",
       "2      Algeria  DZA       AFRO   REPORTING   2022-02-20            13631683   \n",
       "\n",
       "   PERSONS_VACCINATED_1PLUS_DOSE  TOTAL_VACCINATIONS_PER100  \\\n",
       "0                      4907058.0                     14.219   \n",
       "1                      1284034.0                     94.100   \n",
       "2                      7456361.0                     31.086   \n",
       "\n",
       "   PERSONS_VACCINATED_1PLUS_DOSE_PER100  PERSONS_FULLY_VACCINATED  \\\n",
       "0                                12.605                 4231984.0   \n",
       "1                                45.118                 1192155.0   \n",
       "2                                17.004                 6076272.0   \n",
       "\n",
       "   PERSONS_FULLY_VACCINATED_PER100  \\\n",
       "0                           10.871   \n",
       "1                           41.889   \n",
       "2                           13.857   \n",
       "\n",
       "                                       VACCINES_USED FIRST_VACCINE_DATE  \\\n",
       "0  Beijing CNBG - BBIBP-CorV,Janssen - Ad26.COV 2...         2021-02-22   \n",
       "1  AstraZeneca - Vaxzevria,Gamaleya - Gam-Covid-V...         2021-01-13   \n",
       "2  Beijing CNBG - BBIBP-CorV,Gamaleya - Gam-Covid...         2021-01-30   \n",
       "\n",
       "   NUMBER_VACCINES_TYPES_USED  \n",
       "0                         4.0  \n",
       "1                         5.0  \n",
       "2                         4.0  "
      ]
     },
     "execution_count": 99,
     "metadata": {},
     "output_type": "execute_result"
    }
   ],
   "source": [
    "main = pd.read_csv(\"WHO-COVID-19-global-data.csv\")\n",
    "vaccine = pd.read_csv(\"vaccination-data.csv\")\n",
    "vaccine.head(3)\n",
    "\n",
    "# vaccine.loc[:, \"DATA_SOURCE\"].value_counts()"
   ]
  },
  {
   "cell_type": "markdown",
   "id": "3de0ce30",
   "metadata": {},
   "source": [
    "Assumption 1: We changed the WHO_region and Country in **main** to match the WHO_REGION and COUNTRY in **vaccine**. <br>\n",
    "Assumption 2: We will analyze/visualize data for 237 countries featured in the main dataset."
   ]
  },
  {
   "cell_type": "code",
   "execution_count": 101,
   "id": "dc3985e1",
   "metadata": {},
   "outputs": [],
   "source": [
    "main = main.rename(columns={\"WHO_region\": \"WHO_REGION\", \"Country\": \"COUNTRY\"})\n",
    "main = main.merge(vaccine, how='outer', on=['WHO_REGION', 'COUNTRY'])\n",
    "main = main.dropna(subset=['Date_reported'])\n",
    "# main.loc[:, \"COUNTRY\"].value_counts()\n",
    "# main"
   ]
  },
  {
   "cell_type": "code",
   "execution_count": 23,
   "id": "2a3dbba3",
   "metadata": {},
   "outputs": [
    {
     "data": {
      "text/plain": [
       "Afghanistan        789\n",
       "Paraguay           789\n",
       "Nigeria            789\n",
       "Niue               789\n",
       "North Macedonia    789\n",
       "                  ... \n",
       "Grenada            789\n",
       "Guadeloupe         789\n",
       "Guam               789\n",
       "Guatemala          789\n",
       "Zimbabwe           789\n",
       "Name: Country, Length: 237, dtype: int64"
      ]
     },
     "execution_count": 23,
     "metadata": {},
     "output_type": "execute_result"
    }
   ],
   "source": [
    "main.loc[:, \"Country\"].value_counts()          # There are a total of 789 dates for 237 countries"
   ]
  },
  {
   "cell_type": "markdown",
   "id": "4c86b389",
   "metadata": {},
   "source": [
    "## To Do List: \n",
    "-Create a subset of adjusted data <br>\n",
    "-Remove NaN Values <br>\n",
    "-Check if Unreported dates for vaccination are (ir)relevant <br>\n",
    "-Remove Country Code, ISO3\n",
    "-Maybe Remove Vaccine types and vaccine types used"
   ]
  },
  {
   "cell_type": "markdown",
   "id": "cc829fa0",
   "metadata": {},
   "source": [
    "Assumption 3: Remove Columns That We Don't Need"
   ]
  },
  {
   "cell_type": "code",
   "execution_count": 94,
   "id": "fc8feafe",
   "metadata": {},
   "outputs": [],
   "source": [
    "main = main.drop(columns=['Country_code', 'ISO3', 'DATA_SOURCE'])   # Cleaned Data"
   ]
  },
  {
   "cell_type": "code",
   "execution_count": 102,
   "id": "735c5f11",
   "metadata": {},
   "outputs": [],
   "source": [
    "# main.isnull().sum().sum()        # Check how many null values we have; We have a lot!\n",
    "# main"
   ]
  }
 ],
 "metadata": {
  "kernelspec": {
   "display_name": "Python 3 (ipykernel)",
   "language": "python",
   "name": "python3"
  },
  "language_info": {
   "codemirror_mode": {
    "name": "ipython",
    "version": 3
   },
   "file_extension": ".py",
   "mimetype": "text/x-python",
   "name": "python",
   "nbconvert_exporter": "python",
   "pygments_lexer": "ipython3",
   "version": "3.9.7"
  }
 },
 "nbformat": 4,
 "nbformat_minor": 5
}
