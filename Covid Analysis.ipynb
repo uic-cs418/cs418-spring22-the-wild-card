{
 "cells": [
  {
   "cell_type": "markdown",
   "id": "fd720bda",
   "metadata": {},
   "source": [
    "# Project: The Impact of Vaccines on Covid-19 Death Rates"
   ]
  },
  {
   "cell_type": "markdown",
   "id": "60abd248",
   "metadata": {},
   "source": [
    "## Project Introduction: <br>\n",
    "**LINKS:** <br>\n",
    "- Github repository: https://github.com/uic-cs418/cs418-spring22-the-wild-card"
   ]
  },
  {
   "cell_type": "markdown",
   "id": "b78bbeb7-ea7a-4a77-841b-fa94bdcc9b59",
   "metadata": {},
   "source": [
    "In this project, we will be using Covid and Vaccine data from WHO and combine them to determine things about the covid data, such as how effective are the vaccines, which vaccines are the best, death rates per country based on vaccines given, etc... First, lets start by importing the necessary libraries for Data Analysis and Visualization"
   ]
  },
  {
   "cell_type": "code",
   "execution_count": 2,
   "id": "04cc182b",
   "metadata": {},
   "outputs": [],
   "source": [
    "import pandas as pd\n",
    "import numpy as np\n",
    "import seaborn as sns\n",
    "%matplotlib inline\n",
    "import matplotlib.pyplot as plt"
   ]
  },
  {
   "cell_type": "markdown",
   "id": "dea2e6a2-0535-47ee-a627-99330ef51a1b",
   "metadata": {},
   "source": [
    "Now lets load the Covid and Vaccine data from WHO."
   ]
  },
  {
   "cell_type": "code",
   "execution_count": 3,
   "id": "882fea0f",
   "metadata": {},
   "outputs": [],
   "source": [
    "main = pd.read_csv(\"WHO-COVID-19-global-data.csv\")\n",
    "vaccine = pd.read_csv(\"vaccination-data.csv\")\n",
    "#print(vaccine.head())"
   ]
  },
  {
   "cell_type": "markdown",
   "id": "d79593a1",
   "metadata": {},
   "source": [
    "## Changes Made:"
   ]
  },
  {
   "cell_type": "markdown",
   "id": "f30ff410-899b-4b97-a8d6-7c3bcd90e60c",
   "metadata": {},
   "source": [
    "Now we will merge both of the datasets based on Country and WHO_REGION. This will give us a better way to understand both of the vaccine and Covid data better side-by-side."
   ]
  },
  {
   "cell_type": "code",
   "execution_count": 4,
   "id": "dc3985e1",
   "metadata": {},
   "outputs": [],
   "source": [
    "main = main.rename(columns={\"WHO_region\": \"WHO_REGION\", \"Country\": \"COUNTRY\"})\n",
    "main = main.merge(vaccine, how='outer', on=['WHO_REGION', 'COUNTRY'])\n",
    "main = main.dropna(subset=['Date_reported'])\n",
    "# main.loc[:, \"COUNTRY\"].value_counts()\n",
    "# main"
   ]
  },
  {
   "cell_type": "code",
   "execution_count": 5,
   "id": "2a3dbba3",
   "metadata": {},
   "outputs": [
    {
     "data": {
      "text/plain": [
       "Afghanistan        781\n",
       "Paraguay           781\n",
       "Nigeria            781\n",
       "Niue               781\n",
       "North Macedonia    781\n",
       "Name: COUNTRY, dtype: int64"
      ]
     },
     "execution_count": 5,
     "metadata": {},
     "output_type": "execute_result"
    }
   ],
   "source": [
    "main.loc[:, \"COUNTRY\"].value_counts()[0:5]          # There are a total of 789 dates for 237 countries\n",
    "#main.head(10)"
   ]
  },
  {
   "cell_type": "markdown",
   "id": "3de0ce30",
   "metadata": {},
   "source": [
    "Assumption 1: We changed the WHO_region and Country in **main** to match the WHO_REGION and COUNTRY in **vaccine**. <br>\n",
    "Assumption 2: We will analyze/visualize data for 237 countries featured in the main dataset."
   ]
  },
  {
   "cell_type": "markdown",
   "id": "6c8ab743",
   "metadata": {},
   "source": [
    "## Data Cleaning:"
   ]
  },
  {
   "cell_type": "code",
   "execution_count": 6,
   "id": "fc8feafe",
   "metadata": {},
   "outputs": [],
   "source": [
    "if 'Country_code' in main.columns and 'ISO3' in main.columns and 'DATA_SOURCE' in main.columns:\n",
    "    main = main.drop(columns=['Country_code', 'ISO3', 'DATA_SOURCE'])   # Cleaned Data\n",
    "#print(main.head())"
   ]
  },
  {
   "cell_type": "code",
   "execution_count": 7,
   "id": "fb63a86d",
   "metadata": {},
   "outputs": [],
   "source": [
    "#print(main.head(150))"
   ]
  },
  {
   "cell_type": "markdown",
   "id": "a3f348b6",
   "metadata": {},
   "source": [
    "**NOTE:**<br>\n",
    "Lastly we will remove redundant/replicated data and put them in seperate Dataframes based on country (this includes the first_vaccine_date, number_vaccines_types_used and date_updated).This will help us get better understandings based on comparisons between different attributes based on Country."
   ]
  },
  {
   "cell_type": "code",
   "execution_count": 8,
   "id": "d0196066",
   "metadata": {},
   "outputs": [],
   "source": [
    "#make table for all first_vaccine_dates per country and get rid of it in the main dataset to have less duplicate redundant data\n",
    "if 'FIRST_VACCINE_DATE' in main.columns:\n",
    "    first_vaccine_dates = main[['COUNTRY', \"FIRST_VACCINE_DATE\"]]\n",
    "    first_vaccine_dates = first_vaccine_dates.drop_duplicates()\n",
    "    first_vaccine_dates['FIRST_VACCINE_DATE'] = pd.to_datetime(first_vaccine_dates['FIRST_VACCINE_DATE'])\n",
    "if 'FIRST_VACCINE_DATE' in main.columns:\n",
    "    main = main.drop(columns=['FIRST_VACCINE_DATE'])\n",
    "if 'DATE_UPDATED' in main.columns:\n",
    "    main = main.drop(columns=['DATE_UPDATED'])\n",
    "first_vaccine_dates = first_vaccine_dates.sort_values(by='FIRST_VACCINE_DATE')"
   ]
  },
  {
   "cell_type": "markdown",
   "id": "1b5e0b8b",
   "metadata": {},
   "source": [
    "**NOTE:**<br>\n",
    "make datasets to show total cases and total deaths to understand the severity of Pandemic.<br>\n",
    "dataset with just Country, Cumlative_cases, date repoted<br>\n",
    "Team member: Shambhavi Danayak"
   ]
  },
  {
   "cell_type": "code",
   "execution_count": 9,
   "id": "cc9ad08e",
   "metadata": {},
   "outputs": [],
   "source": [
    "df= main[[\"COUNTRY\",\"Date_reported\", \"Cumulative_cases\"]]\n",
    "#df=df[df.Cumulative_cases != 0].reset_index()"
   ]
  },
  {
   "cell_type": "markdown",
   "id": "9a5b07e1",
   "metadata": {},
   "source": [
    "**NOTE:**<br>\n",
    "make datasets to show total cases and total deaths to understand the severity of Pandemic.<br>\n",
    "dataset with just Country, Cumlative_deaths, date repoted<br>\n",
    "Team member: Shambhavi Danayak"
   ]
  },
  {
   "cell_type": "code",
   "execution_count": 10,
   "id": "12de944c",
   "metadata": {},
   "outputs": [],
   "source": [
    "dfCumDeaths= main[[\"COUNTRY\",\"Date_reported\",\"Cumulative_deaths\"]]\n",
    "#dfCumDeaths.head()\n",
    "#dfCumDeaths = dfCumDeaths[dfCumDeaths.Cumulative_deaths!=0].reset_index()"
   ]
  },
  {
   "cell_type": "markdown",
   "id": "281fef66",
   "metadata": {},
   "source": [
    "## Exploratory Data Analysis:"
   ]
  },
  {
   "cell_type": "code",
   "execution_count": 11,
   "id": "a25ed873",
   "metadata": {},
   "outputs": [
    {
     "data": {
      "text/html": [
       "<div>\n",
       "<style scoped>\n",
       "    .dataframe tbody tr th:only-of-type {\n",
       "        vertical-align: middle;\n",
       "    }\n",
       "\n",
       "    .dataframe tbody tr th {\n",
       "        vertical-align: top;\n",
       "    }\n",
       "\n",
       "    .dataframe thead th {\n",
       "        text-align: right;\n",
       "    }\n",
       "</style>\n",
       "<table border=\"1\" class=\"dataframe\">\n",
       "  <thead>\n",
       "    <tr style=\"text-align: right;\">\n",
       "      <th></th>\n",
       "      <th>New_cases</th>\n",
       "      <th>Cumulative_cases</th>\n",
       "      <th>New_deaths</th>\n",
       "      <th>Cumulative_deaths</th>\n",
       "      <th>TOTAL_VACCINATIONS</th>\n",
       "      <th>PERSONS_VACCINATED_1PLUS_DOSE</th>\n",
       "      <th>TOTAL_VACCINATIONS_PER100</th>\n",
       "      <th>PERSONS_VACCINATED_1PLUS_DOSE_PER100</th>\n",
       "      <th>PERSONS_FULLY_VACCINATED</th>\n",
       "      <th>PERSONS_FULLY_VACCINATED_PER100</th>\n",
       "      <th>NUMBER_VACCINES_TYPES_USED</th>\n",
       "    </tr>\n",
       "  </thead>\n",
       "  <tbody>\n",
       "    <tr>\n",
       "      <th>count</th>\n",
       "      <td>1.850970e+05</td>\n",
       "      <td>1.850970e+05</td>\n",
       "      <td>185097.000000</td>\n",
       "      <td>185097.000000</td>\n",
       "      <td>1.749440e+05</td>\n",
       "      <td>1.726010e+05</td>\n",
       "      <td>174944.000000</td>\n",
       "      <td>172601.000000</td>\n",
       "      <td>1.726010e+05</td>\n",
       "      <td>172601.000000</td>\n",
       "      <td>172601.000000</td>\n",
       "    </tr>\n",
       "    <tr>\n",
       "      <th>mean</th>\n",
       "      <td>2.287653e+03</td>\n",
       "      <td>5.027141e+05</td>\n",
       "      <td>31.758094</td>\n",
       "      <td>10487.416474</td>\n",
       "      <td>4.723417e+07</td>\n",
       "      <td>2.218065e+07</td>\n",
       "      <td>121.994857</td>\n",
       "      <td>55.293367</td>\n",
       "      <td>1.957116e+07</td>\n",
       "      <td>49.659900</td>\n",
       "      <td>3.936652</td>\n",
       "    </tr>\n",
       "    <tr>\n",
       "      <th>std</th>\n",
       "      <td>1.571867e+04</td>\n",
       "      <td>2.774388e+06</td>\n",
       "      <td>166.263364</td>\n",
       "      <td>49849.100062</td>\n",
       "      <td>2.427691e+08</td>\n",
       "      <td>1.101057e+08</td>\n",
       "      <td>71.924269</td>\n",
       "      <td>27.120417</td>\n",
       "      <td>1.001905e+08</td>\n",
       "      <td>26.368103</td>\n",
       "      <td>1.908682</td>\n",
       "    </tr>\n",
       "    <tr>\n",
       "      <th>min</th>\n",
       "      <td>-3.295200e+04</td>\n",
       "      <td>0.000000e+00</td>\n",
       "      <td>-4214.000000</td>\n",
       "      <td>0.000000</td>\n",
       "      <td>7.400000e+01</td>\n",
       "      <td>3.700000e+01</td>\n",
       "      <td>0.093000</td>\n",
       "      <td>0.079000</td>\n",
       "      <td>3.700000e+01</td>\n",
       "      <td>0.074000</td>\n",
       "      <td>1.000000</td>\n",
       "    </tr>\n",
       "    <tr>\n",
       "      <th>25%</th>\n",
       "      <td>0.000000e+00</td>\n",
       "      <td>1.290000e+02</td>\n",
       "      <td>0.000000</td>\n",
       "      <td>1.000000</td>\n",
       "      <td>3.584212e+05</td>\n",
       "      <td>1.830130e+05</td>\n",
       "      <td>62.841000</td>\n",
       "      <td>32.785000</td>\n",
       "      <td>1.491670e+05</td>\n",
       "      <td>28.876000</td>\n",
       "      <td>3.000000</td>\n",
       "    </tr>\n",
       "    <tr>\n",
       "      <th>50%</th>\n",
       "      <td>2.100000e+01</td>\n",
       "      <td>8.577000e+03</td>\n",
       "      <td>0.000000</td>\n",
       "      <td>122.000000</td>\n",
       "      <td>2.737200e+06</td>\n",
       "      <td>1.474560e+06</td>\n",
       "      <td>126.863500</td>\n",
       "      <td>62.901000</td>\n",
       "      <td>1.162835e+06</td>\n",
       "      <td>53.568000</td>\n",
       "      <td>4.000000</td>\n",
       "    </tr>\n",
       "    <tr>\n",
       "      <th>75%</th>\n",
       "      <td>4.910000e+02</td>\n",
       "      <td>1.330880e+05</td>\n",
       "      <td>6.000000</td>\n",
       "      <td>2302.000000</td>\n",
       "      <td>1.653898e+07</td>\n",
       "      <td>7.762333e+06</td>\n",
       "      <td>176.373250</td>\n",
       "      <td>76.813000</td>\n",
       "      <td>6.791628e+06</td>\n",
       "      <td>71.828000</td>\n",
       "      <td>5.000000</td>\n",
       "    </tr>\n",
       "    <tr>\n",
       "      <th>max</th>\n",
       "      <td>1.327952e+06</td>\n",
       "      <td>7.772948e+07</td>\n",
       "      <td>8786.000000</td>\n",
       "      <td>926287.000000</td>\n",
       "      <td>3.094069e+09</td>\n",
       "      <td>1.276287e+09</td>\n",
       "      <td>334.116000</td>\n",
       "      <td>123.787000</td>\n",
       "      <td>1.235535e+09</td>\n",
       "      <td>121.219000</td>\n",
       "      <td>11.000000</td>\n",
       "    </tr>\n",
       "  </tbody>\n",
       "</table>\n",
       "</div>"
      ],
      "text/plain": [
       "          New_cases  Cumulative_cases     New_deaths  Cumulative_deaths  \\\n",
       "count  1.850970e+05      1.850970e+05  185097.000000      185097.000000   \n",
       "mean   2.287653e+03      5.027141e+05      31.758094       10487.416474   \n",
       "std    1.571867e+04      2.774388e+06     166.263364       49849.100062   \n",
       "min   -3.295200e+04      0.000000e+00   -4214.000000           0.000000   \n",
       "25%    0.000000e+00      1.290000e+02       0.000000           1.000000   \n",
       "50%    2.100000e+01      8.577000e+03       0.000000         122.000000   \n",
       "75%    4.910000e+02      1.330880e+05       6.000000        2302.000000   \n",
       "max    1.327952e+06      7.772948e+07    8786.000000      926287.000000   \n",
       "\n",
       "       TOTAL_VACCINATIONS  PERSONS_VACCINATED_1PLUS_DOSE  \\\n",
       "count        1.749440e+05                   1.726010e+05   \n",
       "mean         4.723417e+07                   2.218065e+07   \n",
       "std          2.427691e+08                   1.101057e+08   \n",
       "min          7.400000e+01                   3.700000e+01   \n",
       "25%          3.584212e+05                   1.830130e+05   \n",
       "50%          2.737200e+06                   1.474560e+06   \n",
       "75%          1.653898e+07                   7.762333e+06   \n",
       "max          3.094069e+09                   1.276287e+09   \n",
       "\n",
       "       TOTAL_VACCINATIONS_PER100  PERSONS_VACCINATED_1PLUS_DOSE_PER100  \\\n",
       "count              174944.000000                         172601.000000   \n",
       "mean                  121.994857                             55.293367   \n",
       "std                    71.924269                             27.120417   \n",
       "min                     0.093000                              0.079000   \n",
       "25%                    62.841000                             32.785000   \n",
       "50%                   126.863500                             62.901000   \n",
       "75%                   176.373250                             76.813000   \n",
       "max                   334.116000                            123.787000   \n",
       "\n",
       "       PERSONS_FULLY_VACCINATED  PERSONS_FULLY_VACCINATED_PER100  \\\n",
       "count              1.726010e+05                    172601.000000   \n",
       "mean               1.957116e+07                        49.659900   \n",
       "std                1.001905e+08                        26.368103   \n",
       "min                3.700000e+01                         0.074000   \n",
       "25%                1.491670e+05                        28.876000   \n",
       "50%                1.162835e+06                        53.568000   \n",
       "75%                6.791628e+06                        71.828000   \n",
       "max                1.235535e+09                       121.219000   \n",
       "\n",
       "       NUMBER_VACCINES_TYPES_USED  \n",
       "count               172601.000000  \n",
       "mean                     3.936652  \n",
       "std                      1.908682  \n",
       "min                      1.000000  \n",
       "25%                      3.000000  \n",
       "50%                      4.000000  \n",
       "75%                      5.000000  \n",
       "max                     11.000000  "
      ]
     },
     "execution_count": 11,
     "metadata": {},
     "output_type": "execute_result"
    }
   ],
   "source": [
    "main.describe()"
   ]
  },
  {
   "cell_type": "code",
   "execution_count": 12,
   "id": "39c9c7d1",
   "metadata": {},
   "outputs": [],
   "source": [
    "#main.head(100)"
   ]
  },
  {
   "cell_type": "code",
   "execution_count": 13,
   "id": "8cbd9155",
   "metadata": {},
   "outputs": [],
   "source": [
    "#vaccine.head(10)"
   ]
  },
  {
   "cell_type": "code",
   "execution_count": 14,
   "id": "bc5b6503",
   "metadata": {},
   "outputs": [
    {
     "data": {
      "text/html": [
       "<div>\n",
       "<style scoped>\n",
       "    .dataframe tbody tr th:only-of-type {\n",
       "        vertical-align: middle;\n",
       "    }\n",
       "\n",
       "    .dataframe tbody tr th {\n",
       "        vertical-align: top;\n",
       "    }\n",
       "\n",
       "    .dataframe thead th {\n",
       "        text-align: right;\n",
       "    }\n",
       "</style>\n",
       "<table border=\"1\" class=\"dataframe\">\n",
       "  <thead>\n",
       "    <tr style=\"text-align: right;\">\n",
       "      <th></th>\n",
       "      <th>New_cases</th>\n",
       "      <th>Cumulative_cases</th>\n",
       "      <th>New_deaths</th>\n",
       "      <th>Cumulative_deaths</th>\n",
       "      <th>TOTAL_VACCINATIONS</th>\n",
       "      <th>PERSONS_VACCINATED_1PLUS_DOSE</th>\n",
       "      <th>TOTAL_VACCINATIONS_PER100</th>\n",
       "      <th>PERSONS_VACCINATED_1PLUS_DOSE_PER100</th>\n",
       "      <th>PERSONS_FULLY_VACCINATED</th>\n",
       "      <th>PERSONS_FULLY_VACCINATED_PER100</th>\n",
       "      <th>NUMBER_VACCINES_TYPES_USED</th>\n",
       "    </tr>\n",
       "  </thead>\n",
       "  <tbody>\n",
       "    <tr>\n",
       "      <th>count</th>\n",
       "      <td>1.850970e+05</td>\n",
       "      <td>1.850970e+05</td>\n",
       "      <td>185097.000000</td>\n",
       "      <td>185097.000000</td>\n",
       "      <td>1.749440e+05</td>\n",
       "      <td>1.726010e+05</td>\n",
       "      <td>174944.000000</td>\n",
       "      <td>172601.000000</td>\n",
       "      <td>1.726010e+05</td>\n",
       "      <td>172601.000000</td>\n",
       "      <td>172601.000000</td>\n",
       "    </tr>\n",
       "    <tr>\n",
       "      <th>mean</th>\n",
       "      <td>2.287653e+03</td>\n",
       "      <td>5.027141e+05</td>\n",
       "      <td>31.758094</td>\n",
       "      <td>10487.416474</td>\n",
       "      <td>4.723417e+07</td>\n",
       "      <td>2.218065e+07</td>\n",
       "      <td>121.994857</td>\n",
       "      <td>55.293367</td>\n",
       "      <td>1.957116e+07</td>\n",
       "      <td>49.659900</td>\n",
       "      <td>3.936652</td>\n",
       "    </tr>\n",
       "    <tr>\n",
       "      <th>std</th>\n",
       "      <td>1.571867e+04</td>\n",
       "      <td>2.774388e+06</td>\n",
       "      <td>166.263364</td>\n",
       "      <td>49849.100062</td>\n",
       "      <td>2.427691e+08</td>\n",
       "      <td>1.101057e+08</td>\n",
       "      <td>71.924269</td>\n",
       "      <td>27.120417</td>\n",
       "      <td>1.001905e+08</td>\n",
       "      <td>26.368103</td>\n",
       "      <td>1.908682</td>\n",
       "    </tr>\n",
       "    <tr>\n",
       "      <th>min</th>\n",
       "      <td>-3.295200e+04</td>\n",
       "      <td>0.000000e+00</td>\n",
       "      <td>-4214.000000</td>\n",
       "      <td>0.000000</td>\n",
       "      <td>7.400000e+01</td>\n",
       "      <td>3.700000e+01</td>\n",
       "      <td>0.093000</td>\n",
       "      <td>0.079000</td>\n",
       "      <td>3.700000e+01</td>\n",
       "      <td>0.074000</td>\n",
       "      <td>1.000000</td>\n",
       "    </tr>\n",
       "    <tr>\n",
       "      <th>25%</th>\n",
       "      <td>0.000000e+00</td>\n",
       "      <td>1.290000e+02</td>\n",
       "      <td>0.000000</td>\n",
       "      <td>1.000000</td>\n",
       "      <td>3.584212e+05</td>\n",
       "      <td>1.830130e+05</td>\n",
       "      <td>62.841000</td>\n",
       "      <td>32.785000</td>\n",
       "      <td>1.491670e+05</td>\n",
       "      <td>28.876000</td>\n",
       "      <td>3.000000</td>\n",
       "    </tr>\n",
       "    <tr>\n",
       "      <th>50%</th>\n",
       "      <td>2.100000e+01</td>\n",
       "      <td>8.577000e+03</td>\n",
       "      <td>0.000000</td>\n",
       "      <td>122.000000</td>\n",
       "      <td>2.737200e+06</td>\n",
       "      <td>1.474560e+06</td>\n",
       "      <td>126.863500</td>\n",
       "      <td>62.901000</td>\n",
       "      <td>1.162835e+06</td>\n",
       "      <td>53.568000</td>\n",
       "      <td>4.000000</td>\n",
       "    </tr>\n",
       "    <tr>\n",
       "      <th>75%</th>\n",
       "      <td>4.910000e+02</td>\n",
       "      <td>1.330880e+05</td>\n",
       "      <td>6.000000</td>\n",
       "      <td>2302.000000</td>\n",
       "      <td>1.653898e+07</td>\n",
       "      <td>7.762333e+06</td>\n",
       "      <td>176.373250</td>\n",
       "      <td>76.813000</td>\n",
       "      <td>6.791628e+06</td>\n",
       "      <td>71.828000</td>\n",
       "      <td>5.000000</td>\n",
       "    </tr>\n",
       "    <tr>\n",
       "      <th>max</th>\n",
       "      <td>1.327952e+06</td>\n",
       "      <td>7.772948e+07</td>\n",
       "      <td>8786.000000</td>\n",
       "      <td>926287.000000</td>\n",
       "      <td>3.094069e+09</td>\n",
       "      <td>1.276287e+09</td>\n",
       "      <td>334.116000</td>\n",
       "      <td>123.787000</td>\n",
       "      <td>1.235535e+09</td>\n",
       "      <td>121.219000</td>\n",
       "      <td>11.000000</td>\n",
       "    </tr>\n",
       "  </tbody>\n",
       "</table>\n",
       "</div>"
      ],
      "text/plain": [
       "          New_cases  Cumulative_cases     New_deaths  Cumulative_deaths  \\\n",
       "count  1.850970e+05      1.850970e+05  185097.000000      185097.000000   \n",
       "mean   2.287653e+03      5.027141e+05      31.758094       10487.416474   \n",
       "std    1.571867e+04      2.774388e+06     166.263364       49849.100062   \n",
       "min   -3.295200e+04      0.000000e+00   -4214.000000           0.000000   \n",
       "25%    0.000000e+00      1.290000e+02       0.000000           1.000000   \n",
       "50%    2.100000e+01      8.577000e+03       0.000000         122.000000   \n",
       "75%    4.910000e+02      1.330880e+05       6.000000        2302.000000   \n",
       "max    1.327952e+06      7.772948e+07    8786.000000      926287.000000   \n",
       "\n",
       "       TOTAL_VACCINATIONS  PERSONS_VACCINATED_1PLUS_DOSE  \\\n",
       "count        1.749440e+05                   1.726010e+05   \n",
       "mean         4.723417e+07                   2.218065e+07   \n",
       "std          2.427691e+08                   1.101057e+08   \n",
       "min          7.400000e+01                   3.700000e+01   \n",
       "25%          3.584212e+05                   1.830130e+05   \n",
       "50%          2.737200e+06                   1.474560e+06   \n",
       "75%          1.653898e+07                   7.762333e+06   \n",
       "max          3.094069e+09                   1.276287e+09   \n",
       "\n",
       "       TOTAL_VACCINATIONS_PER100  PERSONS_VACCINATED_1PLUS_DOSE_PER100  \\\n",
       "count              174944.000000                         172601.000000   \n",
       "mean                  121.994857                             55.293367   \n",
       "std                    71.924269                             27.120417   \n",
       "min                     0.093000                              0.079000   \n",
       "25%                    62.841000                             32.785000   \n",
       "50%                   126.863500                             62.901000   \n",
       "75%                   176.373250                             76.813000   \n",
       "max                   334.116000                            123.787000   \n",
       "\n",
       "       PERSONS_FULLY_VACCINATED  PERSONS_FULLY_VACCINATED_PER100  \\\n",
       "count              1.726010e+05                    172601.000000   \n",
       "mean               1.957116e+07                        49.659900   \n",
       "std                1.001905e+08                        26.368103   \n",
       "min                3.700000e+01                         0.074000   \n",
       "25%                1.491670e+05                        28.876000   \n",
       "50%                1.162835e+06                        53.568000   \n",
       "75%                6.791628e+06                        71.828000   \n",
       "max                1.235535e+09                       121.219000   \n",
       "\n",
       "       NUMBER_VACCINES_TYPES_USED  \n",
       "count               172601.000000  \n",
       "mean                     3.936652  \n",
       "std                      1.908682  \n",
       "min                      1.000000  \n",
       "25%                      3.000000  \n",
       "50%                      4.000000  \n",
       "75%                      5.000000  \n",
       "max                     11.000000  "
      ]
     },
     "execution_count": 14,
     "metadata": {},
     "output_type": "execute_result"
    }
   ],
   "source": [
    "vaccine.describe()\n",
    "main.describe()"
   ]
  },
  {
   "cell_type": "code",
   "execution_count": 15,
   "id": "0623c65f",
   "metadata": {},
   "outputs": [],
   "source": [
    "#vaccine.tail()\n",
    "#main.tail()"
   ]
  },
  {
   "cell_type": "code",
   "execution_count": 16,
   "id": "7a9ab15c",
   "metadata": {},
   "outputs": [
    {
     "name": "stdout",
     "output_type": "stream",
     "text": [
      "  Date_reported      COUNTRY WHO_REGION  New_cases  Cumulative_cases  \\\n",
      "0      1/3/2020  Afghanistan       EMRO        0.0               0.0   \n",
      "1      1/4/2020  Afghanistan       EMRO        0.0               0.0   \n",
      "2      1/5/2020  Afghanistan       EMRO        0.0               0.0   \n",
      "3      1/6/2020  Afghanistan       EMRO        0.0               0.0   \n",
      "4      1/7/2020  Afghanistan       EMRO        0.0               0.0   \n",
      "\n",
      "   New_deaths  Cumulative_deaths  TOTAL_VACCINATIONS  \\\n",
      "0         0.0                0.0           5535254.0   \n",
      "1         0.0                0.0           5535254.0   \n",
      "2         0.0                0.0           5535254.0   \n",
      "3         0.0                0.0           5535254.0   \n",
      "4         0.0                0.0           5535254.0   \n",
      "\n",
      "   PERSONS_VACCINATED_1PLUS_DOSE  TOTAL_VACCINATIONS_PER100  \\\n",
      "0                      4907058.0                     14.219   \n",
      "1                      4907058.0                     14.219   \n",
      "2                      4907058.0                     14.219   \n",
      "3                      4907058.0                     14.219   \n",
      "4                      4907058.0                     14.219   \n",
      "\n",
      "   PERSONS_VACCINATED_1PLUS_DOSE_PER100  PERSONS_FULLY_VACCINATED  \\\n",
      "0                                12.605                 4231984.0   \n",
      "1                                12.605                 4231984.0   \n",
      "2                                12.605                 4231984.0   \n",
      "3                                12.605                 4231984.0   \n",
      "4                                12.605                 4231984.0   \n",
      "\n",
      "   PERSONS_FULLY_VACCINATED_PER100  \\\n",
      "0                           10.871   \n",
      "1                           10.871   \n",
      "2                           10.871   \n",
      "3                           10.871   \n",
      "4                           10.871   \n",
      "\n",
      "                                       VACCINES_USED  \\\n",
      "0  Beijing CNBG - BBIBP-CorV,Janssen - Ad26.COV 2...   \n",
      "1  Beijing CNBG - BBIBP-CorV,Janssen - Ad26.COV 2...   \n",
      "2  Beijing CNBG - BBIBP-CorV,Janssen - Ad26.COV 2...   \n",
      "3  Beijing CNBG - BBIBP-CorV,Janssen - Ad26.COV 2...   \n",
      "4  Beijing CNBG - BBIBP-CorV,Janssen - Ad26.COV 2...   \n",
      "\n",
      "   NUMBER_VACCINES_TYPES_USED  \n",
      "0                         4.0  \n",
      "1                         4.0  \n",
      "2                         4.0  \n",
      "3                         4.0  \n",
      "4                         4.0  \n"
     ]
    }
   ],
   "source": [
    "print(main.head())"
   ]
  },
  {
   "cell_type": "markdown",
   "id": "e907ff36",
   "metadata": {
    "tags": []
   },
   "source": [
    "## Visualization:"
   ]
  },
  {
   "cell_type": "markdown",
   "id": "3007b6d9",
   "metadata": {},
   "source": [
    "# Visulatization 1: Understanding the Severity of COVID-19 Pandemic\n",
    "By Shambhavi Danayak<br>\n",
    "Before starting any ML technique I wanted to create a visuals which will depict the severity of the COVID-19 Pandemic. WHO Dataset consits of a variety of countries and their respective reports starting year 2021 to 2022. My visulalization only focuses on the data reported for the United States to America. The main data was was broken into sub datasets for columns 'Country', 'Cumulative_cases', 'Cumulative_deaths' and 'Date_reported' (Can be seen under data cleaning). <br>\n",
    "**INFERENCE:** <br>\n",
    "United States of America started reporting Covid-19 cases during year 2020 and drastically started rising after Jan 2021. From this visual one can clearly make out the fact that COVID-19 surged the most during the year 2021. Since in the line plot there is no retardation, it proves the need to contain the pandemic and prepare treatment for countering the virus."
   ]
  },
  {
   "cell_type": "code",
   "execution_count": 17,
   "id": "2866d32a",
   "metadata": {},
   "outputs": [],
   "source": [
    "# Considering only United States of America\n",
    "import datetime\n",
    "from datetime import date\n",
    "dfUSA= df[df['COUNTRY']== 'United States of America']\n",
    "usa=dfUSA[dfUSA.Cumulative_cases!=0].reset_index()\n",
    "#usa.head()\n",
    "#usa.tail() #763"
   ]
  },
  {
   "cell_type": "code",
   "execution_count": 18,
   "id": "88a22442",
   "metadata": {},
   "outputs": [
    {
     "data": {
      "text/html": [
       "<div>\n",
       "<style scoped>\n",
       "    .dataframe tbody tr th:only-of-type {\n",
       "        vertical-align: middle;\n",
       "    }\n",
       "\n",
       "    .dataframe tbody tr th {\n",
       "        vertical-align: top;\n",
       "    }\n",
       "\n",
       "    .dataframe thead th {\n",
       "        text-align: right;\n",
       "    }\n",
       "</style>\n",
       "<table border=\"1\" class=\"dataframe\">\n",
       "  <thead>\n",
       "    <tr style=\"text-align: right;\">\n",
       "      <th></th>\n",
       "      <th>index</th>\n",
       "      <th>Cumulative_cases</th>\n",
       "    </tr>\n",
       "  </thead>\n",
       "  <tbody>\n",
       "    <tr>\n",
       "      <th>count</th>\n",
       "      <td>764.000000</td>\n",
       "      <td>7.640000e+02</td>\n",
       "    </tr>\n",
       "    <tr>\n",
       "      <th>mean</th>\n",
       "      <td>176904.500000</td>\n",
       "      <td>2.405770e+07</td>\n",
       "    </tr>\n",
       "    <tr>\n",
       "      <th>std</th>\n",
       "      <td>220.692093</td>\n",
       "      <td>2.045222e+07</td>\n",
       "    </tr>\n",
       "    <tr>\n",
       "      <th>min</th>\n",
       "      <td>176523.000000</td>\n",
       "      <td>1.000000e+00</td>\n",
       "    </tr>\n",
       "    <tr>\n",
       "      <th>25%</th>\n",
       "      <td>176713.750000</td>\n",
       "      <td>4.353821e+06</td>\n",
       "    </tr>\n",
       "    <tr>\n",
       "      <th>50%</th>\n",
       "      <td>176904.500000</td>\n",
       "      <td>2.642901e+07</td>\n",
       "    </tr>\n",
       "    <tr>\n",
       "      <th>75%</th>\n",
       "      <td>177095.250000</td>\n",
       "      <td>3.632055e+07</td>\n",
       "    </tr>\n",
       "    <tr>\n",
       "      <th>max</th>\n",
       "      <td>177286.000000</td>\n",
       "      <td>7.772948e+07</td>\n",
       "    </tr>\n",
       "  </tbody>\n",
       "</table>\n",
       "</div>"
      ],
      "text/plain": [
       "               index  Cumulative_cases\n",
       "count     764.000000      7.640000e+02\n",
       "mean   176904.500000      2.405770e+07\n",
       "std       220.692093      2.045222e+07\n",
       "min    176523.000000      1.000000e+00\n",
       "25%    176713.750000      4.353821e+06\n",
       "50%    176904.500000      2.642901e+07\n",
       "75%    177095.250000      3.632055e+07\n",
       "max    177286.000000      7.772948e+07"
      ]
     },
     "execution_count": 18,
     "metadata": {},
     "output_type": "execute_result"
    }
   ],
   "source": [
    "usa['Date_reported']=pd.date_range(start='1/20/2020',end='2/21/2022',freq='D')\n",
    "usa['Date_reported']= pd.to_datetime(df['Date_reported'])\n",
    "#usa=usa[0:763]\n",
    "#print(usa.head(10))\n",
    "#print(usa.tail())\n",
    "usa.describe()"
   ]
  },
  {
   "cell_type": "code",
   "execution_count": 19,
   "id": "f8bb0d51",
   "metadata": {},
   "outputs": [
    {
     "data": {
      "text/plain": [
       "<AxesSubplot:xlabel='Date_reported'>"
      ]
     },
     "execution_count": 19,
     "metadata": {},
     "output_type": "execute_result"
    },
    {
     "data": {
      "image/png": "[encoded data removed]",
      "text/plain": [
       "<Figure size 432x288 with 1 Axes>"
      ]
     },
     "metadata": {
      "needs_background": "light"
     },
     "output_type": "display_data"
    }
   ],
   "source": [
    "usa.plot.line(x='Date_reported', y='Cumulative_cases')"
   ]
  },
  {
   "cell_type": "markdown",
   "id": "2407a328-72d3-4fdf-8d27-ef2ee3bbd06e",
   "metadata": {},
   "source": [
    "## Visualization 2: How new cases were effected after the first vaccinations were released \n",
    "By William Kopec\n",
    "\n",
    "What I did in this visualization was to take 2 different countries (of similar population/size), one which had gotten vaccines and another one that hasn't. After checking the unvaxxed and vaxxed tables, I decided to compare Japan and Russia, which have about a 20 million difference in populations. I then plotted the amount of new cases 6 months before and after the first vaccination date of the vaccinated country to show a comparison on how vaccinated countries' cases differ from the unvaccinated one."
   ]
  },
  {
   "cell_type": "code",
   "execution_count": 20,
   "id": "54067100-6b19-4e09-b392-9167a5dd18e6",
   "metadata": {},
   "outputs": [],
   "source": [
    "import datetime\n",
    "\n",
    "vaxxedCountries = first_vaccine_dates[np.isnat(first_vaccine_dates.FIRST_VACCINE_DATE) == False]\n",
    "unvaxxedCountries = first_vaccine_dates[np.isnat(first_vaccine_dates.FIRST_VACCINE_DATE) == True]\n",
    "\n",
    "#print(first_vaccine_dates[['COUNTRY','FIRST_VACCINE_DATE']].loc[first_vaccine_dates['COUNTRY'] == 'United States of America'])\n",
    "#2 vaccinated Countries\n",
    "subData1 = (main[[\"COUNTRY\", \"Date_reported\", \"New_cases\"]].loc[main['COUNTRY'] == 'Italy'])\n",
    "subData2 = (main[[\"COUNTRY\", \"Date_reported\", \"New_cases\"]].loc[main['COUNTRY'] == 'Hungary'])\n",
    "#2 Unvaccinated Countries\n",
    "subData3 = (main[[\"COUNTRY\", \"Date_reported\", \"New_cases\"]].loc[main['COUNTRY'] == 'Russian Federation'])\n",
    "subData4 = (main[[\"COUNTRY\", \"Date_reported\", \"New_cases\"]].loc[main['COUNTRY'] == 'Japan'])\n",
    "\n",
    "first_vax_date = pd.to_datetime(first_vaccine_dates['FIRST_VACCINE_DATE'].loc[first_vaccine_dates['COUNTRY'] == 'Japan'].values)\n",
    "#print(first_vax_date)\n",
    "#subData1['Date_reported']=pd.date_range(start='10/15/2020',end='2/12/2020',freq='D')\n",
    "subData1['Date_reported'] = pd.to_datetime(subData1['Date_reported'])\n",
    "subData2['Date_reported'] = pd.to_datetime(subData2['Date_reported'])\n",
    "subData3['Date_reported'] = pd.to_datetime(subData3['Date_reported'])\n",
    "subData4['Date_reported'] = pd.to_datetime(subData4['Date_reported'])\n",
    "\n",
    "start_date = '2020-10-17'\n",
    "end_date = '2021-10-17'\n",
    "\n",
    "mask1 = (subData1['Date_reported'] > start_date) & (subData1['Date_reported'] <= end_date)\n",
    "mask2 = (subData2['Date_reported'] > start_date) & (subData2['Date_reported'] <= end_date)\n",
    "mask3 = (subData3['Date_reported'] > start_date) & (subData3['Date_reported'] <= end_date)\n",
    "mask4 = (subData4['Date_reported'] > start_date) & (subData4['Date_reported'] <= end_date)\n",
    "\n",
    "subData1 = subData1[mask1]\n",
    "subData2 = subData2[mask2]\n",
    "subData3 = subData3[mask3]\n",
    "subData4 = subData4[mask4]\n",
    "\n",
    "#print(subData4)"
   ]
  },
  {
   "cell_type": "code",
   "execution_count": 21,
   "id": "1229d47b-9eb9-4cdc-b7aa-adde70f5c41c",
   "metadata": {},
   "outputs": [
    {
     "data": {
      "image/png": "[encoded data removed]",
      "text/plain": [
       "<Figure size 432x288 with 1 Axes>"
      ]
     },
     "metadata": {
      "needs_background": "light"
     },
     "output_type": "display_data"
    }
   ],
   "source": [
    "import seaborn as sns\n",
    "\n",
    "fig = plt.figure()\n",
    "\n",
    "for frame in [subData3, subData4]:\n",
    "    plt.plot(frame['Date_reported'], frame['New_cases'])\n",
    "#Get the first vaccination date for USA\n",
    "\n",
    "#plot the first vaccination date on the graph\n",
    "plt.axvline(first_vax_date, color=\"red\", linestyle=\"--\")\n",
    "plt.legend([\"Russia\", \"Japan\"], loc =\"upper right\")\n",
    "plt.show()"
   ]
  },
  {
   "cell_type": "markdown",
   "id": "89a21015-761f-4596-b258-0fc340c47e27",
   "metadata": {},
   "source": [
    "As shown in the plot, Japan got their first vaccines on 02-17-2021 and Russia did not get their first vaccines. From this plot, we can see that Japan (the vaccinated country) had consolidated in new cases at about 7,500 before having a drastic increase and drastic decrease shortly after. Russia had slight decreases but ended up with record-breaking new cases at the end, whereas Japan had near record-breaking low cases at the end. This shows that vaccines may have an effect on decreasing new cases in the long-term."
   ]
  },
  {
   "cell_type": "markdown",
   "id": "e41d1718",
   "metadata": {},
   "source": [
    "## Visualization : The total number of cases and deaths in various WHO Regions\n",
    "By Chinmay Wadnerkar"
   ]
  },
  {
   "cell_type": "markdown",
   "id": "e541b68b",
   "metadata": {},
   "source": [
    "A dataframe had to be created using the relevant coulumns, which in this case are the WHO Regions, the cumulative cases and deaths. The dataframe is grouped on the regions and then converted to a longform format, making it easier for plotting."
   ]
  },
  {
   "cell_type": "code",
   "execution_count": 22,
   "id": "dcbd35c5",
   "metadata": {},
   "outputs": [],
   "source": [
    "import seaborn as sns\n",
    "sns.set_theme()\n",
    "\n",
    "\n",
    "region_and_cases = main[['WHO_REGION', 'Cumulative_cases', 'Cumulative_deaths']]\n",
    "region_and_cases = region_and_cases.groupby(['WHO_REGION']).max().reset_index()\n",
    "\n",
    "df = pd.melt(region_and_cases, id_vars=\"WHO_REGION\", var_name = 'Cases_and_Deaths', value_name = 'Value')\n",
    "#print(df)"
   ]
  },
  {
   "cell_type": "code",
   "execution_count": 23,
   "id": "ff564815",
   "metadata": {},
   "outputs": [
    {
     "data": {
      "image/png": "[encoded data removed]",
      "text/plain": [
       "<Figure size 360x360 with 1 Axes>"
      ]
     },
     "metadata": {},
     "output_type": "display_data"
    }
   ],
   "source": [
    "sns.catplot(data = df, x = \"WHO_REGION\", y = 'Value', hue = 'Cases_and_Deaths', ci = 'sd', kind = 'point', legend = False)\n",
    "sns.despine()\n",
    "plt.ticklabel_format(style='plain', axis='y')\n",
    "plt.legend()\n",
    "plt.show()"
   ]
  },
  {
   "cell_type": "markdown",
   "id": "abf6de13",
   "metadata": {},
   "source": [
    "The aim of this visulaization is to find if there are any inconsistencies in total number of cases and the total number of deaths in a region. From the point-plot it is easy to see that the regions with highest number of total reported cases have the highest total reported deaths. The only thing that is inconsistent is the __ratio of deaths to the total cases for AFRO region is twice as much as that for any other region__."
   ]
  },
  {
   "cell_type": "markdown",
   "id": "e5a9a28f",
   "metadata": {},
   "source": [
    "## Visualization\n",
    "By Ian Lulu"
   ]
  },
  {
   "cell_type": "markdown",
   "id": "76d08bfe",
   "metadata": {},
   "source": [
    "I wanted to see how each region are doing on vaccinations, and how we can make a guess on how COVID is impacting these regions in the world. I am looking at the WHO_REGION and TOTAL_VACCINATIONS in the dataset."
   ]
  },
  {
   "cell_type": "code",
   "execution_count": 24,
   "id": "fb60f9a5",
   "metadata": {},
   "outputs": [
    {
     "data": {
      "image/png": "[encoded data removed]",
      "text/plain": [
       "<Figure size 432x288 with 1 Axes>"
      ]
     },
     "metadata": {},
     "output_type": "display_data"
    }
   ],
   "source": [
    "region_vax = main[['WHO_REGION', 'TOTAL_VACCINATIONS']]\n",
    "region_vax = region_vax.groupby(['WHO_REGION']).max().reset_index()\n",
    "#print(region_vax)\n",
    "\n",
    "plt.bar(region_vax['WHO_REGION'], region_vax['TOTAL_VACCINATIONS'])\n",
    "plt.title('Number of Vaccinations per WHO Region')\n",
    "plt.xlabel('WHO Regions')\n",
    "plt.ylabel('Total Vaccinations (in Billions)')\n",
    "plt.show()"
   ]
  },
  {
   "cell_type": "markdown",
   "id": "46a12647",
   "metadata": {},
   "source": [
    "**Inference:**\n",
    "From this visualization we see the distribution and difference of vaccinations in WHO regions. SEARO (South East Asia) and WPRO (Western Pacific) have the majority of vaccinations while AMRO (Americas), EMRO (Eastern Mediterranean), and EURO (Europe) are lagging behind. AFRO (African Region) has the least amount of vaccinations. From this, we can make a connection to how these various regions and countries are handling COVID cases."
   ]
  },
  {
   "cell_type": "markdown",
   "id": "6f2eada5",
   "metadata": {},
   "source": [
    "## Machine Learning Analysis:"
   ]
  },
  {
   "cell_type": "markdown",
   "id": "5008e75e",
   "metadata": {},
   "source": [
    "The aim of this ML Analysis is to perform a regression task on a subset of our main dataset. The subset includes the number of cases and deaths as reported by the the regions to WHO.\n",
    "\n",
    "We will use the regression task to predict new cases based on the the older cases and other features of the dataset."
   ]
  },
  {
   "cell_type": "code",
   "execution_count": 25,
   "id": "dc3f18ff",
   "metadata": {},
   "outputs": [
    {
     "name": "stderr",
     "output_type": "stream",
     "text": [
      "C:\\Users\\William\\AppData\\Local\\Temp/ipykernel_15548/2649080630.py:13: SettingWithCopyWarning: \n",
      "A value is trying to be set on a copy of a slice from a DataFrame.\n",
      "Try using .loc[row_indexer,col_indexer] = value instead\n",
      "\n",
      "See the caveats in the documentation: https://pandas.pydata.org/pandas-docs/stable/user_guide/indexing.html#returning-a-view-versus-a-copy\n",
      "  df['WHO_REGION'] = l.fit_transform(df['WHO_REGION'])\n"
     ]
    }
   ],
   "source": [
    "import datetime as dt\n",
    "from sklearn.preprocessing import LabelEncoder\n",
    "from sklearn.model_selection import train_test_split\n",
    "from sklearn.linear_model import LinearRegression\n",
    "from sklearn.metrics import mean_squared_error, mean_absolute_error\n",
    "\n",
    "df = main[main.columns[0:7]]\n",
    "\n",
    "target = df['New_deaths']\n",
    "\n",
    "\n",
    "l = LabelEncoder()\n",
    "df['WHO_REGION'] = l.fit_transform(df['WHO_REGION'])\n",
    "new_df = df.drop(columns = ['New_deaths', 'COUNTRY', 'Date_reported'])\n",
    "#new_df"
   ]
  },
  {
   "cell_type": "code",
   "execution_count": 26,
   "id": "f018e1fa",
   "metadata": {},
   "outputs": [
    {
     "name": "stdout",
     "output_type": "stream",
     "text": [
      "The mean absolute error is 27.744166080737553\n",
      "The root mean squred error is 123.13318668076514\n"
     ]
    }
   ],
   "source": [
    "X_train, X_test, y_train, y_test = train_test_split(new_df, target, test_size = 0.2)\n",
    "\n",
    "reg = LinearRegression()\n",
    "reg.fit(X_train, y_train)\n",
    "\n",
    "\n",
    "predict = reg.predict(X_test)\n",
    "rmse = mean_squared_error(y_test, predict, squared = False)\n",
    "mae = mean_absolute_error(y_test, predict)\n",
    "\n",
    "print(\"The mean absolute error is\", mae)\n",
    "print('The root mean squred error is', rmse)"
   ]
  },
  {
   "cell_type": "markdown",
   "id": "4234b351",
   "metadata": {},
   "source": [
    "As we see for liner regression task the mean absolute error gives a lower value than root mean squared error and thus it is a better metric for this task."
   ]
  },
  {
   "cell_type": "markdown",
   "id": "cab31478",
   "metadata": {},
   "source": [
    "For future Machine Learning tasks we will work with the full dataset and try to find the if we can accuractely predict the new deaths when the number of vaccinations are taken into account. We would also like to have a classification task that can help us classify the types of vaccines given in a particular region."
   ]
  }
 ],
 "metadata": {
  "kernelspec": {
   "display_name": "Python 3 (ipykernel)",
   "language": "python",
   "name": "python3"
  },
  "language_info": {
   "codemirror_mode": {
    "name": "ipython",
    "version": 3
   },
   "file_extension": ".py",
   "mimetype": "text/x-python",
   "name": "python",
   "nbconvert_exporter": "python",
   "pygments_lexer": "ipython3",
   "version": "3.9.7"
  }
 },
 "nbformat": 4,
 "nbformat_minor": 5
}
