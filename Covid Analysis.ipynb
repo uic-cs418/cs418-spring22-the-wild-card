{
 "cells": [
  {
   "cell_type": "markdown",
   "id": "fd720bda",
   "metadata": {},
   "source": [
    "# Project: The Impact of Vaccines on Covid-19 Death Rates"
   ]
  },
  {
   "cell_type": "markdown",
   "id": "60abd248",
   "metadata": {},
   "source": [
    "## Project Introduction:"
   ]
  },
  {
   "cell_type": "markdown",
   "id": "b78bbeb7-ea7a-4a77-841b-fa94bdcc9b59",
   "metadata": {},
   "source": [
    "In this project, we will be using Covid and Vaccine data from WHO and combine them to determine things about the covid data, such as how effective are the vaccines, which vaccines are the best, death rates per country based on vaccines given, etc... "
   ]
  },
  {
   "cell_type": "markdown",
   "id": "407a42d9",
   "metadata": {
    "tags": []
   },
   "source": [
    "First, lets start by importing the necessary libraries for Data Analysis and Visualization"
   ]
  },
  {
   "cell_type": "code",
   "execution_count": 2,
   "id": "04cc182b",
   "metadata": {},
   "outputs": [],
   "source": [
    "import pandas as pd\n",
    "import numpy as np\n",
    "import seaborn as sns\n",
    "%matplotlib inline\n",
    "import matplotlib.pyplot as plt"
   ]
  },
  {
   "cell_type": "markdown",
   "id": "dea2e6a2-0535-47ee-a627-99330ef51a1b",
   "metadata": {},
   "source": [
    "Now lets load the Covid and Vaccine data from WHO."
   ]
  },
  {
   "cell_type": "code",
   "execution_count": 3,
   "id": "882fea0f",
   "metadata": {},
   "outputs": [
    {
     "data": {
      "text/html": [
       "<div>\n",
       "<style scoped>\n",
       "    .dataframe tbody tr th:only-of-type {\n",
       "        vertical-align: middle;\n",
       "    }\n",
       "\n",
       "    .dataframe tbody tr th {\n",
       "        vertical-align: top;\n",
       "    }\n",
       "\n",
       "    .dataframe thead th {\n",
       "        text-align: right;\n",
       "    }\n",
       "</style>\n",
       "<table border=\"1\" class=\"dataframe\">\n",
       "  <thead>\n",
       "    <tr style=\"text-align: right;\">\n",
       "      <th></th>\n",
       "      <th>COUNTRY</th>\n",
       "      <th>ISO3</th>\n",
       "      <th>WHO_REGION</th>\n",
       "      <th>DATA_SOURCE</th>\n",
       "      <th>DATE_UPDATED</th>\n",
       "      <th>TOTAL_VACCINATIONS</th>\n",
       "      <th>PERSONS_VACCINATED_1PLUS_DOSE</th>\n",
       "      <th>TOTAL_VACCINATIONS_PER100</th>\n",
       "      <th>PERSONS_VACCINATED_1PLUS_DOSE_PER100</th>\n",
       "      <th>PERSONS_FULLY_VACCINATED</th>\n",
       "      <th>PERSONS_FULLY_VACCINATED_PER100</th>\n",
       "      <th>VACCINES_USED</th>\n",
       "      <th>FIRST_VACCINE_DATE</th>\n",
       "      <th>NUMBER_VACCINES_TYPES_USED</th>\n",
       "    </tr>\n",
       "  </thead>\n",
       "  <tbody>\n",
       "    <tr>\n",
       "      <th>0</th>\n",
       "      <td>Afghanistan</td>\n",
       "      <td>AFG</td>\n",
       "      <td>EMRO</td>\n",
       "      <td>REPORTING</td>\n",
       "      <td>2/27/2022</td>\n",
       "      <td>5535254</td>\n",
       "      <td>4907058.0</td>\n",
       "      <td>14.219</td>\n",
       "      <td>12.605</td>\n",
       "      <td>4231984.0</td>\n",
       "      <td>10.871</td>\n",
       "      <td>Beijing CNBG - BBIBP-CorV,Janssen - Ad26.COV 2...</td>\n",
       "      <td>2/22/2021</td>\n",
       "      <td>4.0</td>\n",
       "    </tr>\n",
       "    <tr>\n",
       "      <th>1</th>\n",
       "      <td>Albania</td>\n",
       "      <td>ALB</td>\n",
       "      <td>EURO</td>\n",
       "      <td>REPORTING</td>\n",
       "      <td>2/20/2022</td>\n",
       "      <td>2707658</td>\n",
       "      <td>1284034.0</td>\n",
       "      <td>94.100</td>\n",
       "      <td>45.118</td>\n",
       "      <td>1192155.0</td>\n",
       "      <td>41.889</td>\n",
       "      <td>AstraZeneca - Vaxzevria,Gamaleya - Gam-Covid-V...</td>\n",
       "      <td>1/13/2021</td>\n",
       "      <td>5.0</td>\n",
       "    </tr>\n",
       "    <tr>\n",
       "      <th>2</th>\n",
       "      <td>Algeria</td>\n",
       "      <td>DZA</td>\n",
       "      <td>AFRO</td>\n",
       "      <td>REPORTING</td>\n",
       "      <td>2/20/2022</td>\n",
       "      <td>13631683</td>\n",
       "      <td>7456361.0</td>\n",
       "      <td>31.086</td>\n",
       "      <td>17.004</td>\n",
       "      <td>6076272.0</td>\n",
       "      <td>13.857</td>\n",
       "      <td>Beijing CNBG - BBIBP-CorV,Gamaleya - Gam-Covid...</td>\n",
       "      <td>1/30/2021</td>\n",
       "      <td>4.0</td>\n",
       "    </tr>\n",
       "    <tr>\n",
       "      <th>3</th>\n",
       "      <td>American Samoa</td>\n",
       "      <td>ASM</td>\n",
       "      <td>WPRO</td>\n",
       "      <td>REPORTING</td>\n",
       "      <td>2/16/2022</td>\n",
       "      <td>85050</td>\n",
       "      <td>42212.0</td>\n",
       "      <td>154.084</td>\n",
       "      <td>76.475</td>\n",
       "      <td>37805.0</td>\n",
       "      <td>68.491</td>\n",
       "      <td>Janssen - Ad26.COV 2-S,Moderna - Spikevax,Pfiz...</td>\n",
       "      <td>12/21/2020</td>\n",
       "      <td>3.0</td>\n",
       "    </tr>\n",
       "    <tr>\n",
       "      <th>4</th>\n",
       "      <td>Andorra</td>\n",
       "      <td>AND</td>\n",
       "      <td>EURO</td>\n",
       "      <td>REPORTING</td>\n",
       "      <td>2/13/2022</td>\n",
       "      <td>142420</td>\n",
       "      <td>57797.0</td>\n",
       "      <td>184.300</td>\n",
       "      <td>75.872</td>\n",
       "      <td>53250.0</td>\n",
       "      <td>69.903</td>\n",
       "      <td>AstraZeneca - Vaxzevria,Moderna - Spikevax,Pfi...</td>\n",
       "      <td>1/20/2021</td>\n",
       "      <td>3.0</td>\n",
       "    </tr>\n",
       "    <tr>\n",
       "      <th>5</th>\n",
       "      <td>Angola</td>\n",
       "      <td>AGO</td>\n",
       "      <td>AFRO</td>\n",
       "      <td>REPORTING</td>\n",
       "      <td>2/22/2022</td>\n",
       "      <td>16259606</td>\n",
       "      <td>10591264.0</td>\n",
       "      <td>49.472</td>\n",
       "      <td>32.225</td>\n",
       "      <td>5448403.0</td>\n",
       "      <td>16.577</td>\n",
       "      <td>SII - Covishield</td>\n",
       "      <td>3/10/2021</td>\n",
       "      <td>1.0</td>\n",
       "    </tr>\n",
       "    <tr>\n",
       "      <th>6</th>\n",
       "      <td>Anguilla</td>\n",
       "      <td>AIA</td>\n",
       "      <td>AMRO</td>\n",
       "      <td>REPORTING</td>\n",
       "      <td>2/25/2022</td>\n",
       "      <td>22165</td>\n",
       "      <td>10370.0</td>\n",
       "      <td>147.747</td>\n",
       "      <td>69.124</td>\n",
       "      <td>9531.0</td>\n",
       "      <td>63.532</td>\n",
       "      <td>AstraZeneca - Vaxzevria,Pfizer BioNTech - Comi...</td>\n",
       "      <td>2/5/2021</td>\n",
       "      <td>2.0</td>\n",
       "    </tr>\n",
       "    <tr>\n",
       "      <th>7</th>\n",
       "      <td>Antigua and Barbuda</td>\n",
       "      <td>ATG</td>\n",
       "      <td>AMRO</td>\n",
       "      <td>REPORTING</td>\n",
       "      <td>2/25/2022</td>\n",
       "      <td>124726</td>\n",
       "      <td>63582.0</td>\n",
       "      <td>127.364</td>\n",
       "      <td>64.927</td>\n",
       "      <td>61144.0</td>\n",
       "      <td>62.437</td>\n",
       "      <td>AstraZeneca - Vaxzevria,Beijing CNBG - BBIBP-C...</td>\n",
       "      <td>3/1/2021</td>\n",
       "      <td>6.0</td>\n",
       "    </tr>\n",
       "    <tr>\n",
       "      <th>8</th>\n",
       "      <td>Argentina</td>\n",
       "      <td>ARG</td>\n",
       "      <td>AMRO</td>\n",
       "      <td>REPORTING</td>\n",
       "      <td>2/25/2022</td>\n",
       "      <td>93008081</td>\n",
       "      <td>40572052.0</td>\n",
       "      <td>205.789</td>\n",
       "      <td>89.770</td>\n",
       "      <td>36237826.0</td>\n",
       "      <td>80.180</td>\n",
       "      <td>AstraZeneca - Vaxzevria,Beijing CNBG - BBIBP-C...</td>\n",
       "      <td>12/29/2020</td>\n",
       "      <td>7.0</td>\n",
       "    </tr>\n",
       "    <tr>\n",
       "      <th>9</th>\n",
       "      <td>Armenia</td>\n",
       "      <td>ARM</td>\n",
       "      <td>EURO</td>\n",
       "      <td>REPORTING</td>\n",
       "      <td>2/13/2022</td>\n",
       "      <td>1971565</td>\n",
       "      <td>1080404.0</td>\n",
       "      <td>66.500</td>\n",
       "      <td>36.460</td>\n",
       "      <td>872336.0</td>\n",
       "      <td>29.439</td>\n",
       "      <td>AstraZeneca - Vaxzevria,Beijing CNBG - BBIBP-C...</td>\n",
       "      <td>6/16/2021</td>\n",
       "      <td>5.0</td>\n",
       "    </tr>\n",
       "  </tbody>\n",
       "</table>\n",
       "</div>"
      ],
      "text/plain": [
       "               COUNTRY ISO3 WHO_REGION DATA_SOURCE DATE_UPDATED  \\\n",
       "0          Afghanistan  AFG       EMRO   REPORTING    2/27/2022   \n",
       "1              Albania  ALB       EURO   REPORTING    2/20/2022   \n",
       "2              Algeria  DZA       AFRO   REPORTING    2/20/2022   \n",
       "3       American Samoa  ASM       WPRO   REPORTING    2/16/2022   \n",
       "4              Andorra  AND       EURO   REPORTING    2/13/2022   \n",
       "5               Angola  AGO       AFRO   REPORTING    2/22/2022   \n",
       "6             Anguilla  AIA       AMRO   REPORTING    2/25/2022   \n",
       "7  Antigua and Barbuda  ATG       AMRO   REPORTING    2/25/2022   \n",
       "8            Argentina  ARG       AMRO   REPORTING    2/25/2022   \n",
       "9              Armenia  ARM       EURO   REPORTING    2/13/2022   \n",
       "\n",
       "   TOTAL_VACCINATIONS  PERSONS_VACCINATED_1PLUS_DOSE  \\\n",
       "0             5535254                      4907058.0   \n",
       "1             2707658                      1284034.0   \n",
       "2            13631683                      7456361.0   \n",
       "3               85050                        42212.0   \n",
       "4              142420                        57797.0   \n",
       "5            16259606                     10591264.0   \n",
       "6               22165                        10370.0   \n",
       "7              124726                        63582.0   \n",
       "8            93008081                     40572052.0   \n",
       "9             1971565                      1080404.0   \n",
       "\n",
       "   TOTAL_VACCINATIONS_PER100  PERSONS_VACCINATED_1PLUS_DOSE_PER100  \\\n",
       "0                     14.219                                12.605   \n",
       "1                     94.100                                45.118   \n",
       "2                     31.086                                17.004   \n",
       "3                    154.084                                76.475   \n",
       "4                    184.300                                75.872   \n",
       "5                     49.472                                32.225   \n",
       "6                    147.747                                69.124   \n",
       "7                    127.364                                64.927   \n",
       "8                    205.789                                89.770   \n",
       "9                     66.500                                36.460   \n",
       "\n",
       "   PERSONS_FULLY_VACCINATED  PERSONS_FULLY_VACCINATED_PER100  \\\n",
       "0                 4231984.0                           10.871   \n",
       "1                 1192155.0                           41.889   \n",
       "2                 6076272.0                           13.857   \n",
       "3                   37805.0                           68.491   \n",
       "4                   53250.0                           69.903   \n",
       "5                 5448403.0                           16.577   \n",
       "6                    9531.0                           63.532   \n",
       "7                   61144.0                           62.437   \n",
       "8                36237826.0                           80.180   \n",
       "9                  872336.0                           29.439   \n",
       "\n",
       "                                       VACCINES_USED FIRST_VACCINE_DATE  \\\n",
       "0  Beijing CNBG - BBIBP-CorV,Janssen - Ad26.COV 2...          2/22/2021   \n",
       "1  AstraZeneca - Vaxzevria,Gamaleya - Gam-Covid-V...          1/13/2021   \n",
       "2  Beijing CNBG - BBIBP-CorV,Gamaleya - Gam-Covid...          1/30/2021   \n",
       "3  Janssen - Ad26.COV 2-S,Moderna - Spikevax,Pfiz...         12/21/2020   \n",
       "4  AstraZeneca - Vaxzevria,Moderna - Spikevax,Pfi...          1/20/2021   \n",
       "5                                   SII - Covishield          3/10/2021   \n",
       "6  AstraZeneca - Vaxzevria,Pfizer BioNTech - Comi...           2/5/2021   \n",
       "7  AstraZeneca - Vaxzevria,Beijing CNBG - BBIBP-C...           3/1/2021   \n",
       "8  AstraZeneca - Vaxzevria,Beijing CNBG - BBIBP-C...         12/29/2020   \n",
       "9  AstraZeneca - Vaxzevria,Beijing CNBG - BBIBP-C...          6/16/2021   \n",
       "\n",
       "   NUMBER_VACCINES_TYPES_USED  \n",
       "0                         4.0  \n",
       "1                         5.0  \n",
       "2                         4.0  \n",
       "3                         3.0  \n",
       "4                         3.0  \n",
       "5                         1.0  \n",
       "6                         2.0  \n",
       "7                         6.0  \n",
       "8                         7.0  \n",
       "9                         5.0  "
      ]
     },
     "execution_count": 3,
     "metadata": {},
     "output_type": "execute_result"
    }
   ],
   "source": [
    "main = pd.read_csv(\"WHO-COVID-19-global-data.csv\")\n",
    "vaccine = pd.read_csv(\"vaccination-data.csv\")\n",
    "vaccine.head(10)"
   ]
  },
  {
   "cell_type": "markdown",
   "id": "d79593a1",
   "metadata": {},
   "source": [
    "## Changes Made:"
   ]
  },
  {
   "cell_type": "markdown",
   "id": "f30ff410-899b-4b97-a8d6-7c3bcd90e60c",
   "metadata": {},
   "source": [
    "We will merge both of the datasets based on Country and WHO_REGION. This will give us a better way to understand both of the vaccine and Covid data better side-by-side and will give us the correct Countries that overlap based on Country attributes."
   ]
  },
  {
   "cell_type": "code",
   "execution_count": 36,
   "id": "dc3985e1",
   "metadata": {},
   "outputs": [],
   "source": [
    "main = main.rename(columns={\"WHO_region\": \"WHO_REGION\", \"Country\": \"COUNTRY\"})\n",
    "main = main.merge(vaccine, how='outer', on=['WHO_REGION', 'COUNTRY'])\n",
    "main = main.dropna(subset=['Date_reported'])\n",
    "# main.loc[:, \"COUNTRY\"].value_counts()\n",
    "# main"
   ]
  },
  {
   "cell_type": "code",
   "execution_count": 37,
   "id": "2a3dbba3",
   "metadata": {},
   "outputs": [
    {
     "data": {
      "text/plain": [
       "Afghanistan        781\n",
       "Paraguay           781\n",
       "Nigeria            781\n",
       "Niue               781\n",
       "North Macedonia    781\n",
       "                  ... \n",
       "Grenada            781\n",
       "Guadeloupe         781\n",
       "Guam               781\n",
       "Guatemala          781\n",
       "Zimbabwe           781\n",
       "Name: COUNTRY, Length: 237, dtype: int64"
      ]
     },
     "execution_count": 37,
     "metadata": {},
     "output_type": "execute_result"
    }
   ],
   "source": [
    "main.loc[:, \"COUNTRY\"].value_counts()          # There are a total of 781 dates for 237 countries"
   ]
  },
  {
   "cell_type": "markdown",
   "id": "3de0ce30",
   "metadata": {},
   "source": [
    "Assumption 1: We changed the WHO_region and Country in **main** to match the WHO_REGION and COUNTRY in **vaccine**. <br>\n",
    "Assumption 2: We will analyze/visualize data for 237 countries featured in the main dataset."
   ]
  },
  {
   "cell_type": "code",
   "execution_count": null,
   "id": "139cc545",
   "metadata": {},
   "outputs": [],
   "source": []
  },
  {
   "cell_type": "markdown",
   "id": "6c8ab743",
   "metadata": {},
   "source": [
    "## Data Cleaning:"
   ]
  },
  {
   "cell_type": "markdown",
   "id": "543c360c-659e-423a-b75a-b78f32c4942b",
   "metadata": {},
   "source": [
    "Now that we've combined both *main* and *vaccine* datasets, we will clean the data further by dropping the columns which will not be useful for our analysis."
   ]
  },
  {
   "cell_type": "code",
   "execution_count": 40,
   "id": "fc8feafe",
   "metadata": {},
   "outputs": [
    {
     "name": "stdout",
     "output_type": "stream",
     "text": [
      "  Date_reported      COUNTRY WHO_REGION  New_cases  Cumulative_cases  \\\n",
      "0      1/3/2020  Afghanistan       EMRO        0.0               0.0   \n",
      "1      1/4/2020  Afghanistan       EMRO        0.0               0.0   \n",
      "2      1/5/2020  Afghanistan       EMRO        0.0               0.0   \n",
      "3      1/6/2020  Afghanistan       EMRO        0.0               0.0   \n",
      "4      1/7/2020  Afghanistan       EMRO        0.0               0.0   \n",
      "\n",
      "   New_deaths  Cumulative_deaths  TOTAL_VACCINATIONS_x  \\\n",
      "0         0.0                0.0             5535254.0   \n",
      "1         0.0                0.0             5535254.0   \n",
      "2         0.0                0.0             5535254.0   \n",
      "3         0.0                0.0             5535254.0   \n",
      "4         0.0                0.0             5535254.0   \n",
      "\n",
      "   PERSONS_VACCINATED_1PLUS_DOSE_x  TOTAL_VACCINATIONS_PER100_x  ...  \\\n",
      "0                        4907058.0                       14.219  ...   \n",
      "1                        4907058.0                       14.219  ...   \n",
      "2                        4907058.0                       14.219  ...   \n",
      "3                        4907058.0                       14.219  ...   \n",
      "4                        4907058.0                       14.219  ...   \n",
      "\n",
      "   DATE_UPDATED  TOTAL_VACCINATIONS_y  PERSONS_VACCINATED_1PLUS_DOSE_y  \\\n",
      "0     2/27/2022             5535254.0                        4907058.0   \n",
      "1     2/27/2022             5535254.0                        4907058.0   \n",
      "2     2/27/2022             5535254.0                        4907058.0   \n",
      "3     2/27/2022             5535254.0                        4907058.0   \n",
      "4     2/27/2022             5535254.0                        4907058.0   \n",
      "\n",
      "  TOTAL_VACCINATIONS_PER100_y  PERSONS_VACCINATED_1PLUS_DOSE_PER100_y  \\\n",
      "0                      14.219                                  12.605   \n",
      "1                      14.219                                  12.605   \n",
      "2                      14.219                                  12.605   \n",
      "3                      14.219                                  12.605   \n",
      "4                      14.219                                  12.605   \n",
      "\n",
      "  PERSONS_FULLY_VACCINATED_y PERSONS_FULLY_VACCINATED_PER100_y  \\\n",
      "0                  4231984.0                            10.871   \n",
      "1                  4231984.0                            10.871   \n",
      "2                  4231984.0                            10.871   \n",
      "3                  4231984.0                            10.871   \n",
      "4                  4231984.0                            10.871   \n",
      "\n",
      "                                     VACCINES_USED_y  FIRST_VACCINE_DATE  \\\n",
      "0  Beijing CNBG - BBIBP-CorV,Janssen - Ad26.COV 2...           2/22/2021   \n",
      "1  Beijing CNBG - BBIBP-CorV,Janssen - Ad26.COV 2...           2/22/2021   \n",
      "2  Beijing CNBG - BBIBP-CorV,Janssen - Ad26.COV 2...           2/22/2021   \n",
      "3  Beijing CNBG - BBIBP-CorV,Janssen - Ad26.COV 2...           2/22/2021   \n",
      "4  Beijing CNBG - BBIBP-CorV,Janssen - Ad26.COV 2...           2/22/2021   \n",
      "\n",
      "   NUMBER_VACCINES_TYPES_USED_y  \n",
      "0                           4.0  \n",
      "1                           4.0  \n",
      "2                           4.0  \n",
      "3                           4.0  \n",
      "4                           4.0  \n",
      "\n",
      "[5 rows x 27 columns]\n"
     ]
    }
   ],
   "source": [
    "if 'Country_code' in main.columns and 'ISO3' in main.columns and 'DATA_SOURCE' in main.columns:\n",
    "    main = main.drop(columns=['Country_code', 'ISO3', 'DATA_SOURCE'])   # Cleaned Data\n",
    "print(main.head())"
   ]
  },
  {
   "cell_type": "code",
   "execution_count": 39,
   "id": "735c5f11",
   "metadata": {},
   "outputs": [
    {
     "name": "stdout",
     "output_type": "stream",
     "text": [
      "    Date_reported      COUNTRY WHO_REGION  New_cases  Cumulative_cases  \\\n",
      "0        1/3/2020  Afghanistan       EMRO        0.0               0.0   \n",
      "1        1/4/2020  Afghanistan       EMRO        0.0               0.0   \n",
      "2        1/5/2020  Afghanistan       EMRO        0.0               0.0   \n",
      "3        1/6/2020  Afghanistan       EMRO        0.0               0.0   \n",
      "4        1/7/2020  Afghanistan       EMRO        0.0               0.0   \n",
      "..            ...          ...        ...        ...               ...   \n",
      "145     5/27/2020  Afghanistan       EMRO      548.0           12465.0   \n",
      "146     5/28/2020  Afghanistan       EMRO      637.0           13102.0   \n",
      "147     5/29/2020  Afghanistan       EMRO      643.0           13745.0   \n",
      "148     5/30/2020  Afghanistan       EMRO      784.0           14529.0   \n",
      "149     5/31/2020  Afghanistan       EMRO      651.0           15180.0   \n",
      "\n",
      "     New_deaths  Cumulative_deaths  TOTAL_VACCINATIONS_x  \\\n",
      "0           0.0                0.0             5535254.0   \n",
      "1           0.0                0.0             5535254.0   \n",
      "2           0.0                0.0             5535254.0   \n",
      "3           0.0                0.0             5535254.0   \n",
      "4           0.0                0.0             5535254.0   \n",
      "..          ...                ...                   ...   \n",
      "145         6.0              230.0             5535254.0   \n",
      "146         9.0              239.0             5535254.0   \n",
      "147        11.0              250.0             5535254.0   \n",
      "148         2.0              252.0             5535254.0   \n",
      "149         2.0              254.0             5535254.0   \n",
      "\n",
      "     PERSONS_VACCINATED_1PLUS_DOSE_x  TOTAL_VACCINATIONS_PER100_x  ...  \\\n",
      "0                          4907058.0                       14.219  ...   \n",
      "1                          4907058.0                       14.219  ...   \n",
      "2                          4907058.0                       14.219  ...   \n",
      "3                          4907058.0                       14.219  ...   \n",
      "4                          4907058.0                       14.219  ...   \n",
      "..                               ...                          ...  ...   \n",
      "145                        4907058.0                       14.219  ...   \n",
      "146                        4907058.0                       14.219  ...   \n",
      "147                        4907058.0                       14.219  ...   \n",
      "148                        4907058.0                       14.219  ...   \n",
      "149                        4907058.0                       14.219  ...   \n",
      "\n",
      "     DATE_UPDATED  TOTAL_VACCINATIONS_y  PERSONS_VACCINATED_1PLUS_DOSE_y  \\\n",
      "0       2/27/2022             5535254.0                        4907058.0   \n",
      "1       2/27/2022             5535254.0                        4907058.0   \n",
      "2       2/27/2022             5535254.0                        4907058.0   \n",
      "3       2/27/2022             5535254.0                        4907058.0   \n",
      "4       2/27/2022             5535254.0                        4907058.0   \n",
      "..            ...                   ...                              ...   \n",
      "145     2/27/2022             5535254.0                        4907058.0   \n",
      "146     2/27/2022             5535254.0                        4907058.0   \n",
      "147     2/27/2022             5535254.0                        4907058.0   \n",
      "148     2/27/2022             5535254.0                        4907058.0   \n",
      "149     2/27/2022             5535254.0                        4907058.0   \n",
      "\n",
      "    TOTAL_VACCINATIONS_PER100_y  PERSONS_VACCINATED_1PLUS_DOSE_PER100_y  \\\n",
      "0                        14.219                                  12.605   \n",
      "1                        14.219                                  12.605   \n",
      "2                        14.219                                  12.605   \n",
      "3                        14.219                                  12.605   \n",
      "4                        14.219                                  12.605   \n",
      "..                          ...                                     ...   \n",
      "145                      14.219                                  12.605   \n",
      "146                      14.219                                  12.605   \n",
      "147                      14.219                                  12.605   \n",
      "148                      14.219                                  12.605   \n",
      "149                      14.219                                  12.605   \n",
      "\n",
      "    PERSONS_FULLY_VACCINATED_y PERSONS_FULLY_VACCINATED_PER100_y  \\\n",
      "0                    4231984.0                            10.871   \n",
      "1                    4231984.0                            10.871   \n",
      "2                    4231984.0                            10.871   \n",
      "3                    4231984.0                            10.871   \n",
      "4                    4231984.0                            10.871   \n",
      "..                         ...                               ...   \n",
      "145                  4231984.0                            10.871   \n",
      "146                  4231984.0                            10.871   \n",
      "147                  4231984.0                            10.871   \n",
      "148                  4231984.0                            10.871   \n",
      "149                  4231984.0                            10.871   \n",
      "\n",
      "                                       VACCINES_USED_y  FIRST_VACCINE_DATE  \\\n",
      "0    Beijing CNBG - BBIBP-CorV,Janssen - Ad26.COV 2...           2/22/2021   \n",
      "1    Beijing CNBG - BBIBP-CorV,Janssen - Ad26.COV 2...           2/22/2021   \n",
      "2    Beijing CNBG - BBIBP-CorV,Janssen - Ad26.COV 2...           2/22/2021   \n",
      "3    Beijing CNBG - BBIBP-CorV,Janssen - Ad26.COV 2...           2/22/2021   \n",
      "4    Beijing CNBG - BBIBP-CorV,Janssen - Ad26.COV 2...           2/22/2021   \n",
      "..                                                 ...                 ...   \n",
      "145  Beijing CNBG - BBIBP-CorV,Janssen - Ad26.COV 2...           2/22/2021   \n",
      "146  Beijing CNBG - BBIBP-CorV,Janssen - Ad26.COV 2...           2/22/2021   \n",
      "147  Beijing CNBG - BBIBP-CorV,Janssen - Ad26.COV 2...           2/22/2021   \n",
      "148  Beijing CNBG - BBIBP-CorV,Janssen - Ad26.COV 2...           2/22/2021   \n",
      "149  Beijing CNBG - BBIBP-CorV,Janssen - Ad26.COV 2...           2/22/2021   \n",
      "\n",
      "     NUMBER_VACCINES_TYPES_USED_y  \n",
      "0                             4.0  \n",
      "1                             4.0  \n",
      "2                             4.0  \n",
      "3                             4.0  \n",
      "4                             4.0  \n",
      "..                            ...  \n",
      "145                           4.0  \n",
      "146                           4.0  \n",
      "147                           4.0  \n",
      "148                           4.0  \n",
      "149                           4.0  \n",
      "\n",
      "[150 rows x 27 columns]\n"
     ]
    }
   ],
   "source": [
    "print(main.head(150))"
   ]
  },
  {
   "cell_type": "markdown",
   "id": "4a03227a-dc33-4d40-8c72-bebf085e31d7",
   "metadata": {},
   "source": [
    "Lastly we will remove redundant/replicated data and put them in seperate Dataframes based on country (this includes the first_vaccine_date, number_vaccines_types_used and date_updated).This will help us get better understandings based on comparisons between different attributes based on Country."
   ]
  },
  {
   "cell_type": "code",
   "execution_count": 33,
   "id": "d0196066",
   "metadata": {},
   "outputs": [],
   "source": [
    "#make table for all first_vaccine_dates per country and get rid of it in the main dataset to have less duplicate redundant data\n",
    "if 'FIRST_VACCINE_DATE' in main.columns:\n",
    "    first_vaccine_dates = main[['COUNTRY', \"FIRST_VACCINE_DATE\"]]\n",
    "    first_vaccine_dates = first_vaccine_dates.drop_duplicates()\n",
    "    first_vaccine_dates['FIRST_VACCINE_DATE'] = pd.to_datetime(first_vaccine_dates['FIRST_VACCINE_DATE'])\n",
    "if 'FIRST_VACCINE_DATE' in main.columns:\n",
    "    main = main.drop(columns=['FIRST_VACCINE_DATE'])\n",
    "if 'DATE_UPDATED' in main.columns:\n",
    "    main = main.drop(columns=['DATE_UPDATED'])\n",
    "first_vaccine_dates = first_vaccine_dates.sort_values(by='FIRST_VACCINE_DATE')\n"
   ]
  },
  {
   "cell_type": "markdown",
   "id": "281fef66",
   "metadata": {},
   "source": [
    "## Exploratory Data Analysis:"
   ]
  },
  {
   "cell_type": "code",
   "execution_count": 34,
   "id": "a25ed873",
   "metadata": {},
   "outputs": [
    {
     "name": "stdout",
     "output_type": "stream",
     "text": [
      "                                 COUNTRY FIRST_VACCINE_DATE\n",
      "32802                              China         2020-07-22\n",
      "11715                            Bahrain         2020-11-04\n",
      "89034   Lao People's Democratic Republic         2020-11-25\n",
      "28897                             Canada         2020-12-14\n",
      "176506          United States of America         2020-12-14\n",
      "...                                  ...                ...\n",
      "7029                             Armenia         2021-06-16\n",
      "106216                            Monaco         2021-06-30\n",
      "167134                           Tokelau         2021-07-20\n",
      "175725       United Republic of Tanzania         2021-07-28\n",
      "25773                            Burundi         2021-10-18\n",
      "\n",
      "[206 rows x 2 columns]\n",
      "                                                  COUNTRY FIRST_VACCINE_DATE\n",
      "20306                              Bosnia and Herzegovina                NaT\n",
      "39050                                                Cuba                NaT\n",
      "42174               Democratic People's Republic of Korea                NaT\n",
      "49984                                             Eritrea                NaT\n",
      "53108                         Falkland Islands (Malvinas)                NaT\n",
      "53889                                       Faroe Islands                NaT\n",
      "62480                                           Gibraltar                NaT\n",
      "64042                                           Greenland                NaT\n",
      "67947                                            Guernsey                NaT\n",
      "71071                                               Haiti                NaT\n",
      "71852                                            Holy See                NaT\n",
      "78881                                         Isle of Man                NaT\n",
      "82786                                              Jersey                NaT\n",
      "86691                                           Kosovo[1]                NaT\n",
      "93720                                       Liechtenstein                NaT\n",
      "101530                                         Martinique                NaT\n",
      "103873                                            Mayotte                NaT\n",
      "121836  occupied Palestinian territory, including east...                NaT\n",
      "123398                                              Other                NaT\n",
      "131989                                        Puerto Rico                NaT\n",
      "135113                                            Réunion                NaT\n",
      "136675                                 Russian Federation                NaT\n",
      "138237                                               Saba                NaT\n",
      "139018                                   Saint Barthélemy                NaT\n",
      "139799                                       Saint Helena                NaT\n",
      "142142                                       Saint Martin                NaT\n",
      "142923                          Saint Pierre and Miquelon                NaT\n",
      "151514                                     Sint Eustatius                NaT\n",
      "170258                                             Turkey                NaT\n",
      "177287                       United States Virgin Islands                NaT\n"
     ]
    }
   ],
   "source": [
    "#Data analysis: \n",
    "print(first_vaccine_dates[0:206])\n",
    "print(first_vaccine_dates[207:len(first_vaccine_dates)])\n",
    "\n",
    "vaxxedCountries = first_vaccine_dates[0:206]\n",
    "unvaxxedCountries = first_vaccine_dates[207:len(first_vaccine_dates)]"
   ]
  },
  {
   "cell_type": "markdown",
   "id": "5de561f6-3e3d-4f89-8500-0aec5d67ff4a",
   "metadata": {},
   "source": [
    "After cleaning the data, we printed the first_vaccine_dates table (sorted by dates) and checked to see which Countries have vaccines. This information may be useful to see comparisons in cases between countries which have a vaccine and the ones that don't. After inspecting the dates, we found that there are 206 Countries that have a vaccine and the rest do not. We seperated these 2 types into 2 different Dataframes, called vaxxedCountries and unvaxxedCountries."
   ]
  },
  {
   "cell_type": "markdown",
   "id": "e907ff36",
   "metadata": {
    "tags": []
   },
   "source": [
    "## Visualizations:"
   ]
  },
  {
   "cell_type": "markdown",
   "id": "2407a328-72d3-4fdf-8d27-ef2ee3bbd06e",
   "metadata": {},
   "source": [
    "## Visualization 1: How new cases were effected after the first vaccinations were released \n",
    "By William Kopec\n",
    "\n",
    "What I did in this visualization was to get subdata where I would only get information from the US and use only relevant information for this visualization. After I broke the data into sub-data, I used the FIRST_VACCINE_DATE to figure out when the first vaccination was given (12/14/2020). I then split the data even further, getting only the information from dates which are 60 days before and 60 days after the first vaccine. Lastly I plotted the amount of new cases for those dates to see how new cases were effected 60 days before and after the first vaccination was given."
   ]
  },
  {
   "cell_type": "code",
   "execution_count": 42,
   "id": "54067100-6b19-4e09-b392-9167a5dd18e6",
   "metadata": {},
   "outputs": [
    {
     "name": "stdout",
     "output_type": "stream",
     "text": [
      "                         COUNTRY FIRST_VACCINE_DATE\n",
      "176506  United States of America         2020-12-14\n",
      "\n",
      "                         COUNTRY Date_reported  New_cases\n",
      "176802  United States of America    2020-10-25    82394.0\n",
      "176803  United States of America    2020-10-26    75936.0\n",
      "176804  United States of America    2020-10-27    65719.0\n",
      "176805  United States of America    2020-10-28    69708.0\n",
      "176806  United States of America    2020-10-29    75245.0\n",
      "...                          ...           ...        ...\n",
      "176897  United States of America    2021-01-28   147131.0\n",
      "176898  United States of America    2021-01-29   159273.0\n",
      "176899  United States of America    2021-01-30   156726.0\n",
      "176900  United States of America    2021-01-31   163677.0\n",
      "176901  United States of America    2021-02-01   137068.0\n",
      "\n",
      "[100 rows x 3 columns]\n"
     ]
    }
   ],
   "source": [
    "import datetime\n",
    "print(first_vaccine_dates[['COUNTRY','FIRST_VACCINE_DATE']].loc[first_vaccine_dates['COUNTRY'] == 'United States of America'])\n",
    "print()\n",
    "subData1 = (main[[\"COUNTRY\", \"Date_reported\", \"New_cases\"]].loc[main['COUNTRY'] == 'United States of America'])\n",
    "subData1['Date_reported'] = pd.to_datetime(subData1['Date_reported'])\n",
    "subData1 = subData1[296:416]\n",
    "print(subData1.head(100))"
   ]
  },
  {
   "cell_type": "code",
   "execution_count": 77,
   "id": "1229d47b-9eb9-4cdc-b7aa-adde70f5c41c",
   "metadata": {},
   "outputs": [
    {
     "name": "stdout",
     "output_type": "stream",
     "text": [
      "['2020-12-14T00:00:00.000000000']\n"
     ]
    },
    {
     "data": {
      "text/plain": [
       "<matplotlib.lines.Line2D at 0x1946e43fc10>"
      ]
     },
     "execution_count": 77,
     "metadata": {},
     "output_type": "execute_result"
    },
    {
     "data": {
      "image/png": "[encoded data removed]",
      "text/plain": [
       "<Figure size 432x288 with 1 Axes>"
      ]
     },
     "metadata": {
      "needs_background": "light"
     },
     "output_type": "display_data"
    }
   ],
   "source": [
    "import seaborn as sns\n",
    "ax1 = subData1.plot.line(x='Date_reported', y='New_cases')\n",
    "#Get the first vaccination date for USA\n",
    "first_vax_date = first_vaccine_dates['FIRST_VACCINE_DATE'].loc[first_vaccine_dates['COUNTRY'] == 'United States of America'].values\n",
    "#plot the first vaccination date on the graph\n",
    "ax1.axvline(first_vax_date, color=\"red\", linestyle=\"--\")"
   ]
  },
  {
   "cell_type": "markdown",
   "id": "89a21015-761f-4596-b258-0fc340c47e27",
   "metadata": {},
   "source": [
    "As shown in the data, the amount of new cases were increasing at a steady rate for 60 days before the first vaccination was given, then on 12/14/2020 (as indicated by the red line), the first vaccines were released and the new cases slowly consolidated between 150,000-250,000 new cases daily before breaking over 300,000 and decreasing at a dramatic rate. Although the rates reached a new high after the vaccines were released, it does not prove that vaccines were not effective, in this case, we have to account for the fact that the big spike may have been due to holiday season (End of December - Early January)."
   ]
  },
  {
   "cell_type": "markdown",
   "id": "6f2eada5",
   "metadata": {},
   "source": [
    "## Machine Learning Analysis:"
   ]
  },
  {
   "cell_type": "code",
   "execution_count": null,
   "id": "2df5b9b3",
   "metadata": {},
   "outputs": [],
   "source": []
  },
  {
   "cell_type": "markdown",
   "id": "a41ac6e3",
   "metadata": {},
   "source": [
    "## Reflection:"
   ]
  },
  {
   "cell_type": "code",
   "execution_count": null,
   "id": "a4eb8452",
   "metadata": {},
   "outputs": [],
   "source": []
  }
 ],
 "metadata": {
  "kernelspec": {
   "display_name": "Python 3 (ipykernel)",
   "language": "python",
   "name": "python3"
  },
  "language_info": {
   "codemirror_mode": {
    "name": "ipython",
    "version": 3
   },
   "file_extension": ".py",
   "mimetype": "text/x-python",
   "name": "python",
   "nbconvert_exporter": "python",
   "pygments_lexer": "ipython3",
   "version": "3.9.7"
  }
 },
 "nbformat": 4,
 "nbformat_minor": 5
}
