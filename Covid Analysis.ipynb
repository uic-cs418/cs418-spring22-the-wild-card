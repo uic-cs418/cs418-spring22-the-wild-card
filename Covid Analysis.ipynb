{
 "cells": [
  {
   "cell_type": "markdown",
   "id": "fd720bda",
   "metadata": {},
   "source": [
    "# Project: The Impact of Vaccines on Covid-19 Death Rates"
   ]
  },
  {
   "cell_type": "markdown",
   "id": "60abd248",
   "metadata": {},
   "source": [
    "## Project Introduction:"
   ]
  },
  {
   "cell_type": "markdown",
   "id": "b78bbeb7-ea7a-4a77-841b-fa94bdcc9b59",
   "metadata": {},
   "source": [
    "In this project, we will be using Covid and Vaccine data from WHO and combine them to determine things about the covid data, such as how effective are the vaccines, which vaccines are the best, death rates per country based on vaccines given, etc... "
   ]
  },
  {
   "cell_type": "markdown",
   "id": "407a42d9",
   "metadata": {
    "tags": []
   },
   "source": [
    "First, lets start by importing the necessary libraries for Data Analysis and Visualization"
   ]
  },
  {
   "cell_type": "code",
   "execution_count": 70,
   "id": "04cc182b",
   "metadata": {},
   "outputs": [],
   "source": [
    "import pandas as pd\n",
    "import numpy as np\n",
    "import seaborn as sns\n",
    "%matplotlib inline\n",
    "import matplotlib.pyplot as plt"
   ]
  },
  {
   "cell_type": "markdown",
   "id": "dea2e6a2-0535-47ee-a627-99330ef51a1b",
   "metadata": {},
   "source": [
    "Now lets load the Covid and Vaccine data from WHO."
   ]
  },
  {
   "cell_type": "code",
   "execution_count": 62,
   "id": "882fea0f",
   "metadata": {},
   "outputs": [
    {
     "data": {
      "text/html": [
       "<div>\n",
       "<style scoped>\n",
       "    .dataframe tbody tr th:only-of-type {\n",
       "        vertical-align: middle;\n",
       "    }\n",
       "\n",
       "    .dataframe tbody tr th {\n",
       "        vertical-align: top;\n",
       "    }\n",
       "\n",
       "    .dataframe thead th {\n",
       "        text-align: right;\n",
       "    }\n",
       "</style>\n",
       "<table border=\"1\" class=\"dataframe\">\n",
       "  <thead>\n",
       "    <tr style=\"text-align: right;\">\n",
       "      <th></th>\n",
       "      <th>COUNTRY</th>\n",
       "      <th>ISO3</th>\n",
       "      <th>WHO_REGION</th>\n",
       "      <th>DATA_SOURCE</th>\n",
       "      <th>DATE_UPDATED</th>\n",
       "      <th>TOTAL_VACCINATIONS</th>\n",
       "      <th>PERSONS_VACCINATED_1PLUS_DOSE</th>\n",
       "      <th>TOTAL_VACCINATIONS_PER100</th>\n",
       "      <th>PERSONS_VACCINATED_1PLUS_DOSE_PER100</th>\n",
       "      <th>PERSONS_FULLY_VACCINATED</th>\n",
       "      <th>PERSONS_FULLY_VACCINATED_PER100</th>\n",
       "      <th>VACCINES_USED</th>\n",
       "      <th>FIRST_VACCINE_DATE</th>\n",
       "      <th>NUMBER_VACCINES_TYPES_USED</th>\n",
       "    </tr>\n",
       "  </thead>\n",
       "  <tbody>\n",
       "    <tr>\n",
       "      <th>0</th>\n",
       "      <td>Afghanistan</td>\n",
       "      <td>AFG</td>\n",
       "      <td>EMRO</td>\n",
       "      <td>REPORTING</td>\n",
       "      <td>2/27/2022</td>\n",
       "      <td>5535254</td>\n",
       "      <td>4907058.0</td>\n",
       "      <td>14.219</td>\n",
       "      <td>12.605</td>\n",
       "      <td>4231984.0</td>\n",
       "      <td>10.871</td>\n",
       "      <td>Beijing CNBG - BBIBP-CorV,Janssen - Ad26.COV 2...</td>\n",
       "      <td>2/22/2021</td>\n",
       "      <td>4.0</td>\n",
       "    </tr>\n",
       "    <tr>\n",
       "      <th>1</th>\n",
       "      <td>Albania</td>\n",
       "      <td>ALB</td>\n",
       "      <td>EURO</td>\n",
       "      <td>REPORTING</td>\n",
       "      <td>2/20/2022</td>\n",
       "      <td>2707658</td>\n",
       "      <td>1284034.0</td>\n",
       "      <td>94.100</td>\n",
       "      <td>45.118</td>\n",
       "      <td>1192155.0</td>\n",
       "      <td>41.889</td>\n",
       "      <td>AstraZeneca - Vaxzevria,Gamaleya - Gam-Covid-V...</td>\n",
       "      <td>1/13/2021</td>\n",
       "      <td>5.0</td>\n",
       "    </tr>\n",
       "    <tr>\n",
       "      <th>2</th>\n",
       "      <td>Algeria</td>\n",
       "      <td>DZA</td>\n",
       "      <td>AFRO</td>\n",
       "      <td>REPORTING</td>\n",
       "      <td>2/20/2022</td>\n",
       "      <td>13631683</td>\n",
       "      <td>7456361.0</td>\n",
       "      <td>31.086</td>\n",
       "      <td>17.004</td>\n",
       "      <td>6076272.0</td>\n",
       "      <td>13.857</td>\n",
       "      <td>Beijing CNBG - BBIBP-CorV,Gamaleya - Gam-Covid...</td>\n",
       "      <td>1/30/2021</td>\n",
       "      <td>4.0</td>\n",
       "    </tr>\n",
       "    <tr>\n",
       "      <th>3</th>\n",
       "      <td>American Samoa</td>\n",
       "      <td>ASM</td>\n",
       "      <td>WPRO</td>\n",
       "      <td>REPORTING</td>\n",
       "      <td>2/16/2022</td>\n",
       "      <td>85050</td>\n",
       "      <td>42212.0</td>\n",
       "      <td>154.084</td>\n",
       "      <td>76.475</td>\n",
       "      <td>37805.0</td>\n",
       "      <td>68.491</td>\n",
       "      <td>Janssen - Ad26.COV 2-S,Moderna - Spikevax,Pfiz...</td>\n",
       "      <td>12/21/2020</td>\n",
       "      <td>3.0</td>\n",
       "    </tr>\n",
       "    <tr>\n",
       "      <th>4</th>\n",
       "      <td>Andorra</td>\n",
       "      <td>AND</td>\n",
       "      <td>EURO</td>\n",
       "      <td>REPORTING</td>\n",
       "      <td>2/13/2022</td>\n",
       "      <td>142420</td>\n",
       "      <td>57797.0</td>\n",
       "      <td>184.300</td>\n",
       "      <td>75.872</td>\n",
       "      <td>53250.0</td>\n",
       "      <td>69.903</td>\n",
       "      <td>AstraZeneca - Vaxzevria,Moderna - Spikevax,Pfi...</td>\n",
       "      <td>1/20/2021</td>\n",
       "      <td>3.0</td>\n",
       "    </tr>\n",
       "    <tr>\n",
       "      <th>5</th>\n",
       "      <td>Angola</td>\n",
       "      <td>AGO</td>\n",
       "      <td>AFRO</td>\n",
       "      <td>REPORTING</td>\n",
       "      <td>2/22/2022</td>\n",
       "      <td>16259606</td>\n",
       "      <td>10591264.0</td>\n",
       "      <td>49.472</td>\n",
       "      <td>32.225</td>\n",
       "      <td>5448403.0</td>\n",
       "      <td>16.577</td>\n",
       "      <td>SII - Covishield</td>\n",
       "      <td>3/10/2021</td>\n",
       "      <td>1.0</td>\n",
       "    </tr>\n",
       "    <tr>\n",
       "      <th>6</th>\n",
       "      <td>Anguilla</td>\n",
       "      <td>AIA</td>\n",
       "      <td>AMRO</td>\n",
       "      <td>REPORTING</td>\n",
       "      <td>2/25/2022</td>\n",
       "      <td>22165</td>\n",
       "      <td>10370.0</td>\n",
       "      <td>147.747</td>\n",
       "      <td>69.124</td>\n",
       "      <td>9531.0</td>\n",
       "      <td>63.532</td>\n",
       "      <td>AstraZeneca - Vaxzevria,Pfizer BioNTech - Comi...</td>\n",
       "      <td>2/5/2021</td>\n",
       "      <td>2.0</td>\n",
       "    </tr>\n",
       "    <tr>\n",
       "      <th>7</th>\n",
       "      <td>Antigua and Barbuda</td>\n",
       "      <td>ATG</td>\n",
       "      <td>AMRO</td>\n",
       "      <td>REPORTING</td>\n",
       "      <td>2/25/2022</td>\n",
       "      <td>124726</td>\n",
       "      <td>63582.0</td>\n",
       "      <td>127.364</td>\n",
       "      <td>64.927</td>\n",
       "      <td>61144.0</td>\n",
       "      <td>62.437</td>\n",
       "      <td>AstraZeneca - Vaxzevria,Beijing CNBG - BBIBP-C...</td>\n",
       "      <td>3/1/2021</td>\n",
       "      <td>6.0</td>\n",
       "    </tr>\n",
       "    <tr>\n",
       "      <th>8</th>\n",
       "      <td>Argentina</td>\n",
       "      <td>ARG</td>\n",
       "      <td>AMRO</td>\n",
       "      <td>REPORTING</td>\n",
       "      <td>2/25/2022</td>\n",
       "      <td>93008081</td>\n",
       "      <td>40572052.0</td>\n",
       "      <td>205.789</td>\n",
       "      <td>89.770</td>\n",
       "      <td>36237826.0</td>\n",
       "      <td>80.180</td>\n",
       "      <td>AstraZeneca - Vaxzevria,Beijing CNBG - BBIBP-C...</td>\n",
       "      <td>12/29/2020</td>\n",
       "      <td>7.0</td>\n",
       "    </tr>\n",
       "    <tr>\n",
       "      <th>9</th>\n",
       "      <td>Armenia</td>\n",
       "      <td>ARM</td>\n",
       "      <td>EURO</td>\n",
       "      <td>REPORTING</td>\n",
       "      <td>2/13/2022</td>\n",
       "      <td>1971565</td>\n",
       "      <td>1080404.0</td>\n",
       "      <td>66.500</td>\n",
       "      <td>36.460</td>\n",
       "      <td>872336.0</td>\n",
       "      <td>29.439</td>\n",
       "      <td>AstraZeneca - Vaxzevria,Beijing CNBG - BBIBP-C...</td>\n",
       "      <td>6/16/2021</td>\n",
       "      <td>5.0</td>\n",
       "    </tr>\n",
       "  </tbody>\n",
       "</table>\n",
       "</div>"
      ],
      "text/plain": [
       "               COUNTRY ISO3 WHO_REGION DATA_SOURCE DATE_UPDATED  \\\n",
       "0          Afghanistan  AFG       EMRO   REPORTING    2/27/2022   \n",
       "1              Albania  ALB       EURO   REPORTING    2/20/2022   \n",
       "2              Algeria  DZA       AFRO   REPORTING    2/20/2022   \n",
       "3       American Samoa  ASM       WPRO   REPORTING    2/16/2022   \n",
       "4              Andorra  AND       EURO   REPORTING    2/13/2022   \n",
       "5               Angola  AGO       AFRO   REPORTING    2/22/2022   \n",
       "6             Anguilla  AIA       AMRO   REPORTING    2/25/2022   \n",
       "7  Antigua and Barbuda  ATG       AMRO   REPORTING    2/25/2022   \n",
       "8            Argentina  ARG       AMRO   REPORTING    2/25/2022   \n",
       "9              Armenia  ARM       EURO   REPORTING    2/13/2022   \n",
       "\n",
       "   TOTAL_VACCINATIONS  PERSONS_VACCINATED_1PLUS_DOSE  \\\n",
       "0             5535254                      4907058.0   \n",
       "1             2707658                      1284034.0   \n",
       "2            13631683                      7456361.0   \n",
       "3               85050                        42212.0   \n",
       "4              142420                        57797.0   \n",
       "5            16259606                     10591264.0   \n",
       "6               22165                        10370.0   \n",
       "7              124726                        63582.0   \n",
       "8            93008081                     40572052.0   \n",
       "9             1971565                      1080404.0   \n",
       "\n",
       "   TOTAL_VACCINATIONS_PER100  PERSONS_VACCINATED_1PLUS_DOSE_PER100  \\\n",
       "0                     14.219                                12.605   \n",
       "1                     94.100                                45.118   \n",
       "2                     31.086                                17.004   \n",
       "3                    154.084                                76.475   \n",
       "4                    184.300                                75.872   \n",
       "5                     49.472                                32.225   \n",
       "6                    147.747                                69.124   \n",
       "7                    127.364                                64.927   \n",
       "8                    205.789                                89.770   \n",
       "9                     66.500                                36.460   \n",
       "\n",
       "   PERSONS_FULLY_VACCINATED  PERSONS_FULLY_VACCINATED_PER100  \\\n",
       "0                 4231984.0                           10.871   \n",
       "1                 1192155.0                           41.889   \n",
       "2                 6076272.0                           13.857   \n",
       "3                   37805.0                           68.491   \n",
       "4                   53250.0                           69.903   \n",
       "5                 5448403.0                           16.577   \n",
       "6                    9531.0                           63.532   \n",
       "7                   61144.0                           62.437   \n",
       "8                36237826.0                           80.180   \n",
       "9                  872336.0                           29.439   \n",
       "\n",
       "                                       VACCINES_USED FIRST_VACCINE_DATE  \\\n",
       "0  Beijing CNBG - BBIBP-CorV,Janssen - Ad26.COV 2...          2/22/2021   \n",
       "1  AstraZeneca - Vaxzevria,Gamaleya - Gam-Covid-V...          1/13/2021   \n",
       "2  Beijing CNBG - BBIBP-CorV,Gamaleya - Gam-Covid...          1/30/2021   \n",
       "3  Janssen - Ad26.COV 2-S,Moderna - Spikevax,Pfiz...         12/21/2020   \n",
       "4  AstraZeneca - Vaxzevria,Moderna - Spikevax,Pfi...          1/20/2021   \n",
       "5                                   SII - Covishield          3/10/2021   \n",
       "6  AstraZeneca - Vaxzevria,Pfizer BioNTech - Comi...           2/5/2021   \n",
       "7  AstraZeneca - Vaxzevria,Beijing CNBG - BBIBP-C...           3/1/2021   \n",
       "8  AstraZeneca - Vaxzevria,Beijing CNBG - BBIBP-C...         12/29/2020   \n",
       "9  AstraZeneca - Vaxzevria,Beijing CNBG - BBIBP-C...          6/16/2021   \n",
       "\n",
       "   NUMBER_VACCINES_TYPES_USED  \n",
       "0                         4.0  \n",
       "1                         5.0  \n",
       "2                         4.0  \n",
       "3                         3.0  \n",
       "4                         3.0  \n",
       "5                         1.0  \n",
       "6                         2.0  \n",
       "7                         6.0  \n",
       "8                         7.0  \n",
       "9                         5.0  "
      ]
     },
     "execution_count": 62,
     "metadata": {},
     "output_type": "execute_result"
    }
   ],
   "source": [
    "main = pd.read_csv(\"WHO-COVID-19-global-data.csv\")\n",
    "vaccine = pd.read_csv(\"vaccination-data.csv\")\n",
    "vaccine.head(10)"
   ]
  },
  {
   "cell_type": "markdown",
   "id": "d79593a1",
   "metadata": {},
   "source": [
    "## Changes Made:"
   ]
  },
  {
   "cell_type": "markdown",
   "id": "f30ff410-899b-4b97-a8d6-7c3bcd90e60c",
   "metadata": {},
   "source": [
    "Now we will merge both of the datasets based on Country and WHO_REGION. This will give us a better way to understand both of the vaccine and Covid data better side-by-side."
   ]
  },
  {
   "cell_type": "code",
   "execution_count": 63,
   "id": "dc3985e1",
   "metadata": {},
   "outputs": [],
   "source": [
    "main = main.rename(columns={\"WHO_region\": \"WHO_REGION\", \"Country\": \"COUNTRY\"})\n",
    "main = main.merge(vaccine, how='outer', on=['WHO_REGION', 'COUNTRY'])\n",
    "main = main.dropna(subset=['Date_reported'])\n",
    "# main.loc[:, \"COUNTRY\"].value_counts()\n",
    "# main"
   ]
  },
  {
   "cell_type": "code",
   "execution_count": 64,
   "id": "2a3dbba3",
   "metadata": {},
   "outputs": [
    {
     "data": {
      "text/plain": [
       "Afghanistan        781\n",
       "Paraguay           781\n",
       "Nigeria            781\n",
       "Niue               781\n",
       "North Macedonia    781\n",
       "                  ... \n",
       "Grenada            781\n",
       "Guadeloupe         781\n",
       "Guam               781\n",
       "Guatemala          781\n",
       "Zimbabwe           781\n",
       "Name: COUNTRY, Length: 237, dtype: int64"
      ]
     },
     "execution_count": 64,
     "metadata": {},
     "output_type": "execute_result"
    }
   ],
   "source": [
    "main.loc[:, \"COUNTRY\"].value_counts()          # There are a total of 789 dates for 237 countries"
   ]
  },
  {
   "cell_type": "markdown",
   "id": "3de0ce30",
   "metadata": {},
   "source": [
    "Assumption 1: We changed the WHO_region and Country in **main** to match the WHO_REGION and COUNTRY in **vaccine**. <br>\n",
    "Assumption 2: We will analyze/visualize data for 237 countries featured in the main dataset."
   ]
  },
  {
   "cell_type": "code",
   "execution_count": null,
   "id": "139cc545",
   "metadata": {},
   "outputs": [],
   "source": []
  },
  {
   "cell_type": "markdown",
   "id": "6c8ab743",
   "metadata": {},
   "source": [
    "## Data Cleaning:"
   ]
  },
  {
   "cell_type": "code",
   "execution_count": 65,
   "id": "fc8feafe",
   "metadata": {},
   "outputs": [],
   "source": [
    "main = main.drop(columns=['Country_code', 'ISO3', 'DATA_SOURCE'])   # Cleaned Data\n",
    "#print(main.head())"
   ]
  },
  {
   "cell_type": "code",
   "execution_count": 66,
   "id": "735c5f11",
   "metadata": {},
   "outputs": [
    {
     "name": "stdout",
     "output_type": "stream",
     "text": [
      "    Date_reported      COUNTRY WHO_REGION  New_cases  Cumulative_cases  \\\n",
      "0        1/3/2020  Afghanistan       EMRO        0.0               0.0   \n",
      "1        1/4/2020  Afghanistan       EMRO        0.0               0.0   \n",
      "2        1/5/2020  Afghanistan       EMRO        0.0               0.0   \n",
      "3        1/6/2020  Afghanistan       EMRO        0.0               0.0   \n",
      "4        1/7/2020  Afghanistan       EMRO        0.0               0.0   \n",
      "..            ...          ...        ...        ...               ...   \n",
      "145     5/27/2020  Afghanistan       EMRO      548.0           12465.0   \n",
      "146     5/28/2020  Afghanistan       EMRO      637.0           13102.0   \n",
      "147     5/29/2020  Afghanistan       EMRO      643.0           13745.0   \n",
      "148     5/30/2020  Afghanistan       EMRO      784.0           14529.0   \n",
      "149     5/31/2020  Afghanistan       EMRO      651.0           15180.0   \n",
      "\n",
      "     New_deaths  Cumulative_deaths DATE_UPDATED  TOTAL_VACCINATIONS  \\\n",
      "0           0.0                0.0    2/27/2022           5535254.0   \n",
      "1           0.0                0.0    2/27/2022           5535254.0   \n",
      "2           0.0                0.0    2/27/2022           5535254.0   \n",
      "3           0.0                0.0    2/27/2022           5535254.0   \n",
      "4           0.0                0.0    2/27/2022           5535254.0   \n",
      "..          ...                ...          ...                 ...   \n",
      "145         6.0              230.0    2/27/2022           5535254.0   \n",
      "146         9.0              239.0    2/27/2022           5535254.0   \n",
      "147        11.0              250.0    2/27/2022           5535254.0   \n",
      "148         2.0              252.0    2/27/2022           5535254.0   \n",
      "149         2.0              254.0    2/27/2022           5535254.0   \n",
      "\n",
      "     PERSONS_VACCINATED_1PLUS_DOSE  TOTAL_VACCINATIONS_PER100  \\\n",
      "0                        4907058.0                     14.219   \n",
      "1                        4907058.0                     14.219   \n",
      "2                        4907058.0                     14.219   \n",
      "3                        4907058.0                     14.219   \n",
      "4                        4907058.0                     14.219   \n",
      "..                             ...                        ...   \n",
      "145                      4907058.0                     14.219   \n",
      "146                      4907058.0                     14.219   \n",
      "147                      4907058.0                     14.219   \n",
      "148                      4907058.0                     14.219   \n",
      "149                      4907058.0                     14.219   \n",
      "\n",
      "     PERSONS_VACCINATED_1PLUS_DOSE_PER100  PERSONS_FULLY_VACCINATED  \\\n",
      "0                                  12.605                 4231984.0   \n",
      "1                                  12.605                 4231984.0   \n",
      "2                                  12.605                 4231984.0   \n",
      "3                                  12.605                 4231984.0   \n",
      "4                                  12.605                 4231984.0   \n",
      "..                                    ...                       ...   \n",
      "145                                12.605                 4231984.0   \n",
      "146                                12.605                 4231984.0   \n",
      "147                                12.605                 4231984.0   \n",
      "148                                12.605                 4231984.0   \n",
      "149                                12.605                 4231984.0   \n",
      "\n",
      "     PERSONS_FULLY_VACCINATED_PER100  \\\n",
      "0                             10.871   \n",
      "1                             10.871   \n",
      "2                             10.871   \n",
      "3                             10.871   \n",
      "4                             10.871   \n",
      "..                               ...   \n",
      "145                           10.871   \n",
      "146                           10.871   \n",
      "147                           10.871   \n",
      "148                           10.871   \n",
      "149                           10.871   \n",
      "\n",
      "                                         VACCINES_USED FIRST_VACCINE_DATE  \\\n",
      "0    Beijing CNBG - BBIBP-CorV,Janssen - Ad26.COV 2...          2/22/2021   \n",
      "1    Beijing CNBG - BBIBP-CorV,Janssen - Ad26.COV 2...          2/22/2021   \n",
      "2    Beijing CNBG - BBIBP-CorV,Janssen - Ad26.COV 2...          2/22/2021   \n",
      "3    Beijing CNBG - BBIBP-CorV,Janssen - Ad26.COV 2...          2/22/2021   \n",
      "4    Beijing CNBG - BBIBP-CorV,Janssen - Ad26.COV 2...          2/22/2021   \n",
      "..                                                 ...                ...   \n",
      "145  Beijing CNBG - BBIBP-CorV,Janssen - Ad26.COV 2...          2/22/2021   \n",
      "146  Beijing CNBG - BBIBP-CorV,Janssen - Ad26.COV 2...          2/22/2021   \n",
      "147  Beijing CNBG - BBIBP-CorV,Janssen - Ad26.COV 2...          2/22/2021   \n",
      "148  Beijing CNBG - BBIBP-CorV,Janssen - Ad26.COV 2...          2/22/2021   \n",
      "149  Beijing CNBG - BBIBP-CorV,Janssen - Ad26.COV 2...          2/22/2021   \n",
      "\n",
      "     NUMBER_VACCINES_TYPES_USED  \n",
      "0                           4.0  \n",
      "1                           4.0  \n",
      "2                           4.0  \n",
      "3                           4.0  \n",
      "4                           4.0  \n",
      "..                          ...  \n",
      "145                         4.0  \n",
      "146                         4.0  \n",
      "147                         4.0  \n",
      "148                         4.0  \n",
      "149                         4.0  \n",
      "\n",
      "[150 rows x 17 columns]\n"
     ]
    }
   ],
   "source": [
    "print(main.head(150))"
   ]
  },
  {
   "cell_type": "code",
   "execution_count": 67,
   "id": "d0196066",
   "metadata": {},
   "outputs": [
    {
     "name": "stdout",
     "output_type": "stream",
     "text": [
      "                  COUNTRY FIRST_VACCINE_DATE\n",
      "0             Afghanistan          2/22/2021\n",
      "781               Albania          1/13/2021\n",
      "1562              Algeria          1/30/2021\n",
      "2343       American Samoa         12/21/2020\n",
      "3124              Andorra          1/20/2021\n",
      "...                   ...                ...\n",
      "181192           Viet Nam           3/8/2021\n",
      "181973  Wallis and Futuna          3/19/2021\n",
      "182754              Yemen          4/20/2021\n",
      "183535             Zambia          4/14/2021\n",
      "184316           Zimbabwe          2/18/2021\n",
      "\n",
      "[237 rows x 2 columns]\n",
      "  Date_reported      COUNTRY WHO_REGION  New_cases  Cumulative_cases  \\\n",
      "0      1/3/2020  Afghanistan       EMRO        0.0               0.0   \n",
      "1      1/4/2020  Afghanistan       EMRO        0.0               0.0   \n",
      "2      1/5/2020  Afghanistan       EMRO        0.0               0.0   \n",
      "3      1/6/2020  Afghanistan       EMRO        0.0               0.0   \n",
      "4      1/7/2020  Afghanistan       EMRO        0.0               0.0   \n",
      "\n",
      "   New_deaths  Cumulative_deaths  TOTAL_VACCINATIONS  \\\n",
      "0         0.0                0.0           5535254.0   \n",
      "1         0.0                0.0           5535254.0   \n",
      "2         0.0                0.0           5535254.0   \n",
      "3         0.0                0.0           5535254.0   \n",
      "4         0.0                0.0           5535254.0   \n",
      "\n",
      "   PERSONS_VACCINATED_1PLUS_DOSE  TOTAL_VACCINATIONS_PER100  \\\n",
      "0                      4907058.0                     14.219   \n",
      "1                      4907058.0                     14.219   \n",
      "2                      4907058.0                     14.219   \n",
      "3                      4907058.0                     14.219   \n",
      "4                      4907058.0                     14.219   \n",
      "\n",
      "   PERSONS_VACCINATED_1PLUS_DOSE_PER100  PERSONS_FULLY_VACCINATED  \\\n",
      "0                                12.605                 4231984.0   \n",
      "1                                12.605                 4231984.0   \n",
      "2                                12.605                 4231984.0   \n",
      "3                                12.605                 4231984.0   \n",
      "4                                12.605                 4231984.0   \n",
      "\n",
      "   PERSONS_FULLY_VACCINATED_PER100  \\\n",
      "0                           10.871   \n",
      "1                           10.871   \n",
      "2                           10.871   \n",
      "3                           10.871   \n",
      "4                           10.871   \n",
      "\n",
      "                                       VACCINES_USED  \\\n",
      "0  Beijing CNBG - BBIBP-CorV,Janssen - Ad26.COV 2...   \n",
      "1  Beijing CNBG - BBIBP-CorV,Janssen - Ad26.COV 2...   \n",
      "2  Beijing CNBG - BBIBP-CorV,Janssen - Ad26.COV 2...   \n",
      "3  Beijing CNBG - BBIBP-CorV,Janssen - Ad26.COV 2...   \n",
      "4  Beijing CNBG - BBIBP-CorV,Janssen - Ad26.COV 2...   \n",
      "\n",
      "   NUMBER_VACCINES_TYPES_USED  \n",
      "0                         4.0  \n",
      "1                         4.0  \n",
      "2                         4.0  \n",
      "3                         4.0  \n",
      "4                         4.0  \n"
     ]
    }
   ],
   "source": [
    "#make table for all first_vaccine_dates per country and get rid of it in the main dataset to have less duplicate redundant data\n",
    "if 'FIRST_VACCINE_DATE' in first_vaccine_dates.columns and 'FIRST_VACCINE_DATE' in main.columns:\n",
    "    first_vaccine_dates = main[['COUNTRY', \"FIRST_VACCINE_DATE\"]]\n",
    "    first_vaccine_dates = first_vaccine_dates.drop_duplicates()\n",
    "if 'FIRST_VACCINE_DATE' in main.columns:\n",
    "    main = main.drop(columns=['FIRST_VACCINE_DATE'])\n",
    "if 'DATE_UPDATED' in main.columns:\n",
    "    main = main.drop(columns=['DATE_UPDATED'])\n",
    "print(first_vaccine_dates.head(300))\n",
    "print(main.head())\n"
   ]
  },
  {
   "cell_type": "markdown",
   "id": "281fef66",
   "metadata": {},
   "source": [
    "## Exploratory Data Analysis:"
   ]
  },
  {
   "cell_type": "code",
   "execution_count": null,
   "id": "a25ed873",
   "metadata": {},
   "outputs": [],
   "source": []
  },
  {
   "cell_type": "markdown",
   "id": "e907ff36",
   "metadata": {
    "tags": []
   },
   "source": [
    "## Visualization:"
   ]
  },
  {
   "cell_type": "markdown",
   "id": "2407a328-72d3-4fdf-8d27-ef2ee3bbd06e",
   "metadata": {},
   "source": [
    "## Visualization 1: How new cases were effected after the first vaccinations were released \n",
    "By William Kopec\n",
    "\n",
    "What I did in this visualization was to get subdata where I would only get information from the US and use only relevant information for this visualization. After I broke the data into sub-data, I used the FIRST_VACCINE_DATE to figure out when the first vaccination was given (12/14/2020). I then split the data even further, getting only the information from dates which are 60 days before and 60 days after the first vaccine. Lastly I plotted the amount of new cases for those dates to see how new cases were effected 60 days before and after the first vaccination was given."
   ]
  },
  {
   "cell_type": "code",
   "execution_count": 68,
   "id": "54067100-6b19-4e09-b392-9167a5dd18e6",
   "metadata": {},
   "outputs": [
    {
     "name": "stdout",
     "output_type": "stream",
     "text": [
      "                         COUNTRY FIRST_VACCINE_DATE\n",
      "176506  United States of America         12/14/2020\n",
      "\n",
      "                         COUNTRY Date_reported  New_cases\n",
      "176802  United States of America    2020-10-25    82394.0\n",
      "176803  United States of America    2020-10-26    75936.0\n",
      "176804  United States of America    2020-10-27    65719.0\n",
      "176805  United States of America    2020-10-28    69708.0\n",
      "176806  United States of America    2020-10-29    75245.0\n",
      "...                          ...           ...        ...\n",
      "176897  United States of America    2021-01-28   147131.0\n",
      "176898  United States of America    2021-01-29   159273.0\n",
      "176899  United States of America    2021-01-30   156726.0\n",
      "176900  United States of America    2021-01-31   163677.0\n",
      "176901  United States of America    2021-02-01   137068.0\n",
      "\n",
      "[100 rows x 3 columns]\n"
     ]
    }
   ],
   "source": [
    "import datetime\n",
    "print(first_vaccine_dates[['COUNTRY','FIRST_VACCINE_DATE']].loc[first_vaccine_dates['COUNTRY'] == 'United States of America'])\n",
    "print()\n",
    "df = (main[[\"COUNTRY\", \"Date_reported\", \"New_cases\"]].loc[main['COUNTRY'] == 'United States of America'])\n",
    "df['Date_reported'] = pd.to_datetime(df['Date_reported'])\n",
    "df = df[296:416]\n",
    "print(df.head(100))"
   ]
  },
  {
   "cell_type": "code",
   "execution_count": 69,
   "id": "1229d47b-9eb9-4cdc-b7aa-adde70f5c41c",
   "metadata": {},
   "outputs": [
    {
     "data": {
      "text/plain": [
       "<AxesSubplot:xlabel='Date_reported'>"
      ]
     },
     "execution_count": 69,
     "metadata": {},
     "output_type": "execute_result"
    },
    {
     "data": {
      "image/png": "[encoded data removed]",
      "text/plain": [
       "<Figure size 432x288 with 1 Axes>"
      ]
     },
     "metadata": {
      "needs_background": "light"
     },
     "output_type": "display_data"
    }
   ],
   "source": [
    "import seaborn as sns\n",
    "df.plot.line(x='Date_reported', y='New_cases')"
   ]
  },
  {
   "cell_type": "markdown",
   "id": "89a21015-761f-4596-b258-0fc340c47e27",
   "metadata": {},
   "source": [
    "As shown in the data, the amount of new cases were increasing at a steady rate for 60 days before the first vaccination was given, then on 12/14/2020, the first vaccines were released and there were slight increases (Maybe due to only a small number of people recieving the vaccines at the time, so not as effective) but then about 40 days after the first vaccine was released, the number of new cases started to decrease at a dramatic rate."
   ]
  },
  {
   "cell_type": "code",
   "execution_count": null,
   "id": "01665131",
   "metadata": {},
   "outputs": [],
   "source": []
  },
  {
   "cell_type": "markdown",
   "id": "6f2eada5",
   "metadata": {},
   "source": [
    "## Machine Learning Analysis:"
   ]
  },
  {
   "cell_type": "code",
   "execution_count": null,
   "id": "2df5b9b3",
   "metadata": {},
   "outputs": [],
   "source": []
  },
  {
   "cell_type": "markdown",
   "id": "a41ac6e3",
   "metadata": {},
   "source": [
    "## Reflection:"
   ]
  },
  {
   "cell_type": "code",
   "execution_count": null,
   "id": "a4eb8452",
   "metadata": {},
   "outputs": [],
   "source": []
  },
  {
   "cell_type": "code",
   "execution_count": null,
   "id": "9d69afd6",
   "metadata": {},
   "outputs": [],
   "source": []
  },
  {
   "cell_type": "markdown",
   "id": "4c86b389",
   "metadata": {},
   "source": [
    "## To Do List: \n",
    "-Create a subset of adjusted data <br>\n",
    "-Remove NaN Values <br>\n",
    "-Check if Unreported dates for vaccination are (ir)relevant <br>\n",
    "-Remove Country Code, ISO3\n",
    "-Maybe Remove Vaccine types and vaccine types used"
   ]
  },
  {
   "cell_type": "markdown",
   "id": "cc829fa0",
   "metadata": {},
   "source": [
    "Assumption 3: Remove Columns That We Don't Need"
   ]
  },
  {
   "cell_type": "code",
   "execution_count": null,
   "id": "c004d18b-3b44-4e6d-abe0-82392acee1c0",
   "metadata": {},
   "outputs": [],
   "source": []
  }
 ],
 "metadata": {
  "kernelspec": {
   "display_name": "Python 3 (ipykernel)",
   "language": "python",
   "name": "python3"
  },
  "language_info": {
   "codemirror_mode": {
    "name": "ipython",
    "version": 3
   },
   "file_extension": ".py",
   "mimetype": "text/x-python",
   "name": "python",
   "nbconvert_exporter": "python",
   "pygments_lexer": "ipython3",
   "version": "3.9.7"
  }
 },
 "nbformat": 4,
 "nbformat_minor": 5
}
